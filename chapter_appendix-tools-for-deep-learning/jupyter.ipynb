{
  "cells": [
    {
      "cell_type": "markdown",
      "metadata": {
        "id": "view-in-github",
        "colab_type": "text"
      },
      "source": [
        "<a href=\"https://colab.research.google.com/github/sravanilakkoju/Pythonguide/blob/main/chapter_appendix-tools-for-deep-learning/jupyter.ipynb\" target=\"_parent\"><img src=\"https://colab.research.google.com/assets/colab-badge.svg\" alt=\"Open In Colab\"/></a>"
      ]
    },
    {
      "cell_type": "markdown",
      "id": "31d9a4c9",
      "metadata": {
        "origin_pos": 0,
        "id": "31d9a4c9"
      },
      "source": [
        "# Using Jupyter Notebooks\n",
        ":label:`sec_jupyter`\n",
        "\n",
        "\n",
        "This section describes how to edit and run the code\n",
        "in each section of this book\n",
        "using the Jupyter Notebook. Make sure you have\n",
        "installed Jupyter and downloaded the\n",
        "code as described in\n",
        ":ref:`chap_installation`.\n",
        "If you want to know more about Jupyter see the excellent tutorial in\n",
        "their [documentation](https://jupyter.readthedocs.io/en/latest/).\n",
        "\n",
        "\n",
        "## Editing and Running the Code Locally\n",
        "\n",
        "Suppose that the local path of the book's code is `xx/yy/d2l-en/`. Use the shell to change the directory to this path (`cd xx/yy/d2l-en`) and run the command `jupyter notebook`. If your browser does not do this automatically, open http://localhost:8888 and you will see the interface of Jupyter and all the folders containing the code of the book, as shown in :numref:`fig_jupyter00`.\n",
        "\n",
        "![The folders containing the code of this book.](https://github.com/d2l-ai/d2l-en-colab/blob/master/img/jupyter00.png?raw=1)\n",
        ":width:`600px`\n",
        ":label:`fig_jupyter00`\n",
        "\n",
        "\n",
        "You can access the notebook files by clicking on the folder displayed on the webpage.\n",
        "They usually have the suffix \".ipynb\".\n",
        "For the sake of brevity, we create a temporary \"test.ipynb\" file.\n",
        "The content displayed after you click it is\n",
        "shown in :numref:`fig_jupyter01`.\n",
        "This notebook includes a markdown cell and a code cell. The content in the markdown cell includes \"This Is a Title\" and \"This is text.\".\n",
        "The code cell contains two lines of Python code.\n",
        "\n",
        "![Markdown and code cells in the \"text.ipynb\" file.](https://github.com/d2l-ai/d2l-en-colab/blob/master/img/jupyter01.png?raw=1)\n",
        ":width:`600px`\n",
        ":label:`fig_jupyter01`\n",
        "\n",
        "\n",
        "Double click on the markdown cell to enter edit mode.\n",
        "Add a new text string \"Hello world.\" at the end of the cell, as shown in :numref:`fig_jupyter02`.\n",
        "\n",
        "![Edit the markdown cell.](https://github.com/d2l-ai/d2l-en-colab/blob/master/img/jupyter02.png?raw=1)\n",
        ":width:`600px`\n",
        ":label:`fig_jupyter02`\n",
        "\n",
        "\n",
        "As demonstrated in :numref:`fig_jupyter03`,\n",
        "click \"Cell\" $\\rightarrow$ \"Run Cells\" in the menu bar to run the edited cell.\n",
        "\n",
        "![Run the cell.](https://github.com/d2l-ai/d2l-en-colab/blob/master/img/jupyter03.png?raw=1)\n",
        ":width:`600px`\n",
        ":label:`fig_jupyter03`\n",
        "\n",
        "After running, the markdown cell is shown in :numref:`fig_jupyter04`.\n",
        "\n",
        "![The markdown cell after running.](https://github.com/d2l-ai/d2l-en-colab/blob/master/img/jupyter04.png?raw=1)\n",
        ":width:`600px`\n",
        ":label:`fig_jupyter04`\n",
        "\n",
        "\n",
        "Next, click on the code cell. Multiply the elements by 2 after the last line of code, as shown in :numref:`fig_jupyter05`.\n",
        "\n",
        "![Edit the code cell.](https://github.com/d2l-ai/d2l-en-colab/blob/master/img/jupyter05.png?raw=1)\n",
        ":width:`600px`\n",
        ":label:`fig_jupyter05`\n",
        "\n",
        "\n",
        "You can also run the cell with a shortcut (\"Ctrl + Enter\" by default) and obtain the output result from :numref:`fig_jupyter06`.\n",
        "\n",
        "![Run the code cell to obtain the output.](https://github.com/d2l-ai/d2l-en-colab/blob/master/img/jupyter06.png?raw=1)\n",
        ":width:`600px`\n",
        ":label:`fig_jupyter06`\n",
        "\n",
        "\n",
        "When a notebook contains more cells, we can click \"Kernel\" $\\rightarrow$ \"Restart & Run All\" in the menu bar to run all the cells in the entire notebook. By clicking \"Help\" $\\rightarrow$ \"Edit Keyboard Shortcuts\" in the menu bar, you can edit the shortcuts according to your preferences.\n",
        "\n",
        "## Advanced Options\n",
        "\n",
        "Beyond local editing two things are quite important: editing the notebooks in the markdown format and running Jupyter remotely.\n",
        "The latter matters when we want to run the code on a faster server.\n",
        "The former matters since Jupyter's native ipynb format stores a lot of auxiliary data that is\n",
        "irrelevant to the content,\n",
        "mostly related to how and where the code is run.\n",
        "This is confusing for Git, making\n",
        "reviewing contributions very difficult.\n",
        "Fortunately there is an alternative---native editing in the markdown format.\n",
        "\n",
        "### Markdown Files in Jupyter\n",
        "\n",
        "If you wish to contribute to the content of this book, you need to modify the\n",
        "source file (md file, not ipynb file) on GitHub.\n",
        "Using the notedown plugin we\n",
        "can modify notebooks in the md format directly in Jupyter.\n",
        "\n",
        "\n",
        "First, install the notedown plugin, run the Jupyter Notebook, and load the plugin:\n",
        "\n",
        "```\n",
        "pip install d2l-notedown  # You may need to uninstall the original notedown.\n",
        "jupyter notebook --NotebookApp.contents_manager_class='notedown.NotedownContentsManager'\n",
        "```\n",
        "\n",
        "You may also turn on the notedown plugin by default whenever you run the Jupyter Notebook.\n",
        "First, generate a Jupyter Notebook configuration file (if it has already been generated, you can skip this step).\n",
        "\n",
        "```\n",
        "jupyter notebook --generate-config\n",
        "```\n",
        "\n",
        "Then, add the following line to the end of the Jupyter Notebook configuration file (for Linux or macOS, usually in the path `~/.jupyter/jupyter_notebook_config.py`):\n",
        "\n",
        "```\n",
        "c.NotebookApp.contents_manager_class = 'notedown.NotedownContentsManager'\n",
        "```\n",
        "\n",
        "After that, you only need to run the `jupyter notebook` command to turn on the notedown plugin by default.\n",
        "\n",
        "### Running Jupyter Notebooks on a Remote Server\n",
        "\n",
        "Sometimes, you may want to run Jupyter notebooks on a remote server and access it through a browser on your local computer. If Linux or macOS is installed on your local machine (Windows can also support this function through third-party software such as PuTTY), you can use port forwarding:\n",
        "\n",
        "```\n",
        "ssh myserver -L 8888:localhost:8888\n",
        "```\n",
        "\n",
        "The above string `myserver` is the address of the remote server.\n",
        "Then we can use http://localhost:8888 to access the remote server `myserver` that runs Jupyter notebooks. We will detail on how to run Jupyter notebooks on AWS instances\n",
        "later in this appendix.\n",
        "\n",
        "### Timing\n",
        "\n",
        "We can use the `ExecuteTime` plugin to time the execution of each code cell in Jupyter notebooks.\n",
        "Use the following commands to install the plugin:\n",
        "\n",
        "```\n",
        "pip install jupyter_contrib_nbextensions\n",
        "jupyter contrib nbextension install --user\n",
        "jupyter nbextension enable execute_time/ExecuteTime\n",
        "```\n",
        "\n",
        "## Summary\n",
        "\n",
        "* Using the Jupyter Notebook tool, we can edit, run, and contribute to each section of the book.\n",
        "* We can run Jupyter notebooks on remote servers using port forwarding.\n",
        "\n",
        "\n",
        "## Exercises\n",
        "\n",
        "1. Edit and run the code in this book with the Jupyter Notebook on your local machine.\n",
        "1. Edit and run the code in this book with the Jupyter Notebook *remotely* via port forwarding.\n",
        "1. Compare the running time of the operations $\\mathbf{A}^\\top \\mathbf{B}$ and $\\mathbf{A} \\mathbf{B}$ for two square matrices in $\\mathbb{R}^{1024 \\times 1024}$. Which one is faster?\n",
        "\n",
        "\n",
        "[Discussions](https://discuss.d2l.ai/t/421)\n"
      ]
    },
    {
      "cell_type": "code",
      "source": [
        "import numpy as np\n",
        "\n",
        "a = np.array([1,2,3],dtype='int16') #e can also specify the data type we need\n",
        "a\n"
      ],
      "metadata": {
        "id": "vdIFsvQxE8qX",
        "outputId": "9eee84b8-8649-4750-ec07-48b0b7e7fc2c",
        "colab": {
          "base_uri": "https://localhost:8080/"
        }
      },
      "id": "vdIFsvQxE8qX",
      "execution_count": 10,
      "outputs": [
        {
          "output_type": "execute_result",
          "data": {
            "text/plain": [
              "array([1, 2, 3], dtype=int16)"
            ]
          },
          "metadata": {},
          "execution_count": 10
        }
      ]
    },
    {
      "cell_type": "code",
      "source": [
        "b = np.array([[1,2,3,4,5],[1.2,2.5,5.3,6.9,1.2]])\n",
        "b"
      ],
      "metadata": {
        "id": "v_snzEPFSiwA",
        "outputId": "d1a47c97-ff28-4d4b-9dc4-e6fca1a4d800",
        "colab": {
          "base_uri": "https://localhost:8080/"
        }
      },
      "id": "v_snzEPFSiwA",
      "execution_count": 5,
      "outputs": [
        {
          "output_type": "execute_result",
          "data": {
            "text/plain": [
              "array([[1. , 2. , 3. , 4. , 5. ],\n",
              "       [1.2, 2.5, 5.3, 6.9, 1.2]])"
            ]
          },
          "metadata": {},
          "execution_count": 5
        }
      ]
    },
    {
      "cell_type": "code",
      "source": [
        "b.ndim #get the dimention of the array"
      ],
      "metadata": {
        "id": "-sv8JxusS-Fb",
        "outputId": "222997ca-ac40-4264-9a62-13e4df218b17",
        "colab": {
          "base_uri": "https://localhost:8080/"
        }
      },
      "id": "-sv8JxusS-Fb",
      "execution_count": 6,
      "outputs": [
        {
          "output_type": "execute_result",
          "data": {
            "text/plain": [
              "2"
            ]
          },
          "metadata": {},
          "execution_count": 6
        }
      ]
    },
    {
      "cell_type": "code",
      "source": [
        "#get shape\n",
        "b.shape"
      ],
      "metadata": {
        "id": "xSKSqn9TTGMJ",
        "outputId": "51a2e468-15a3-4ce2-b67b-9a7a1d7b044c",
        "colab": {
          "base_uri": "https://localhost:8080/"
        }
      },
      "id": "xSKSqn9TTGMJ",
      "execution_count": 7,
      "outputs": [
        {
          "output_type": "execute_result",
          "data": {
            "text/plain": [
              "(2, 5)"
            ]
          },
          "metadata": {},
          "execution_count": 7
        }
      ]
    },
    {
      "cell_type": "code",
      "source": [
        "#get the type\n",
        "print(b.dtype)\n",
        "a.dtype"
      ],
      "metadata": {
        "id": "ADhvJZfoTKSZ",
        "outputId": "36149997-7ea1-4d49-b984-fc21c0a7abe4",
        "colab": {
          "base_uri": "https://localhost:8080/"
        }
      },
      "id": "ADhvJZfoTKSZ",
      "execution_count": 12,
      "outputs": [
        {
          "output_type": "stream",
          "name": "stdout",
          "text": [
            "float64\n"
          ]
        },
        {
          "output_type": "execute_result",
          "data": {
            "text/plain": [
              "dtype('int16')"
            ]
          },
          "metadata": {},
          "execution_count": 12
        }
      ]
    },
    {
      "cell_type": "code",
      "source": [
        "# get size\n",
        "print(a.itemsize)\n",
        "print(b.itemsize)"
      ],
      "metadata": {
        "id": "A9-sgtxmTSZI",
        "outputId": "084158b2-57c9-4508-dc2e-fa34a119d886",
        "colab": {
          "base_uri": "https://localhost:8080/"
        }
      },
      "id": "A9-sgtxmTSZI",
      "execution_count": 13,
      "outputs": [
        {
          "output_type": "stream",
          "name": "stdout",
          "text": [
            "2\n",
            "8\n"
          ]
        }
      ]
    },
    {
      "cell_type": "code",
      "source": [
        "#get the total size\n",
        "print(a.size)\n",
        "print(b.size)\n"
      ],
      "metadata": {
        "id": "M9yYA5GeT8Cr",
        "outputId": "fb69d2ba-d6f8-42e5-da1b-28c8a50cdefb",
        "colab": {
          "base_uri": "https://localhost:8080/"
        }
      },
      "id": "M9yYA5GeT8Cr",
      "execution_count": 15,
      "outputs": [
        {
          "output_type": "stream",
          "name": "stdout",
          "text": [
            "3\n",
            "10\n"
          ]
        }
      ]
    },
    {
      "cell_type": "markdown",
      "source": [
        "**Accessing or changing the specific elements using numpy.**"
      ],
      "metadata": {
        "id": "n6A4hCC9UyFF"
      },
      "id": "n6A4hCC9UyFF"
    },
    {
      "cell_type": "code",
      "source": [
        "a = np.array([[1,2,3,4,5,6,7,8],[4,5,16,7,6,5,9,8]])\n",
        "print(a.ndim)"
      ],
      "metadata": {
        "id": "yCyZIPc-Ul-H",
        "outputId": "d83f1d9f-43fc-4cff-c6f7-29d9b183a916",
        "colab": {
          "base_uri": "https://localhost:8080/"
        }
      },
      "id": "yCyZIPc-Ul-H",
      "execution_count": 42,
      "outputs": [
        {
          "output_type": "stream",
          "name": "stdout",
          "text": [
            "2\n"
          ]
        }
      ]
    },
    {
      "cell_type": "code",
      "source": [
        "print(a)"
      ],
      "metadata": {
        "id": "0MrHHBP3Vvvl",
        "outputId": "22960534-296f-40a0-97ae-0f95d4398a1e",
        "colab": {
          "base_uri": "https://localhost:8080/"
        }
      },
      "id": "0MrHHBP3Vvvl",
      "execution_count": 34,
      "outputs": [
        {
          "output_type": "stream",
          "name": "stdout",
          "text": [
            "[[ 1  2  3  4  5  6  7  8]\n",
            " [ 4  5 16  7  6  5  9  8]]\n"
          ]
        }
      ]
    },
    {
      "cell_type": "code",
      "source": [
        "#get a specific element[r,c]\n",
        "print(a[1,4])\n",
        "#negitive indexing\n",
        "print(a[-1,-3])"
      ],
      "metadata": {
        "id": "GQkBFC6YV10k",
        "outputId": "a77e815b-7f89-46e3-a51b-5d3e825d842c",
        "colab": {
          "base_uri": "https://localhost:8080/"
        }
      },
      "id": "GQkBFC6YV10k",
      "execution_count": 25,
      "outputs": [
        {
          "output_type": "stream",
          "name": "stdout",
          "text": [
            "6\n",
            "16\n"
          ]
        }
      ]
    },
    {
      "cell_type": "code",
      "source": [
        "#get a specific row\n",
        "print(a[0])\n",
        "print(a[0,:])"
      ],
      "metadata": {
        "id": "QtyQ47PwWfpj",
        "outputId": "551964b1-e8e7-4ac6-d750-b5c0f1d17d84",
        "colab": {
          "base_uri": "https://localhost:8080/"
        }
      },
      "id": "QtyQ47PwWfpj",
      "execution_count": 29,
      "outputs": [
        {
          "output_type": "stream",
          "name": "stdout",
          "text": [
            "[ 1  2  3 34  5]\n",
            "[ 1  2  3 34  5]\n"
          ]
        }
      ]
    },
    {
      "cell_type": "code",
      "source": [
        "#get a specific column\n",
        "a[:,1] #doesnot gives the specified output\n",
        "#[startindex:endindex:stepindex]\n",
        "print(a[0,1:6:2])\n",
        "print(a[0,1:-1:2])"
      ],
      "metadata": {
        "id": "Gq_HPIvaWuwO",
        "outputId": "00d1fc6b-5eb7-4ecc-9b6c-19d12296466d",
        "colab": {
          "base_uri": "https://localhost:8080/"
        }
      },
      "id": "Gq_HPIvaWuwO",
      "execution_count": 38,
      "outputs": [
        {
          "output_type": "stream",
          "name": "stdout",
          "text": [
            "[2 4 6]\n",
            "[2 4 6]\n"
          ]
        }
      ]
    },
    {
      "cell_type": "code",
      "source": [
        "print(a[1,5])"
      ],
      "metadata": {
        "id": "7WrTV2PuYrra",
        "outputId": "e373e9a2-dde6-4711-dde7-13a1fe97ae6f",
        "colab": {
          "base_uri": "https://localhost:8080/"
        }
      },
      "id": "7WrTV2PuYrra",
      "execution_count": 43,
      "outputs": [
        {
          "output_type": "stream",
          "name": "stdout",
          "text": [
            "5\n"
          ]
        }
      ]
    },
    {
      "cell_type": "code",
      "source": [
        "a[1,5] = 20\n",
        "print(a)\n",
        "\n",
        "a[:,2] = 5\n",
        "print(a)\n",
        "\n",
        "a[:,2] = [1,9]\n",
        "print(a)\n"
      ],
      "metadata": {
        "id": "eJ98krdrYeos",
        "outputId": "40d6f522-bf00-416e-889f-303dc9eab2ec",
        "colab": {
          "base_uri": "https://localhost:8080/"
        }
      },
      "id": "eJ98krdrYeos",
      "execution_count": 48,
      "outputs": [
        {
          "output_type": "stream",
          "name": "stdout",
          "text": [
            "[[ 1  2  5  4  5  6  7  8]\n",
            " [ 4  5  5  7  6 20  9  8]]\n",
            "[[ 1  2  5  4  5  6  7  8]\n",
            " [ 4  5  5  7  6 20  9  8]]\n",
            "[[ 1  2  1  4  5  6  7  8]\n",
            " [ 4  5  9  7  6 20  9  8]]\n"
          ]
        }
      ]
    },
    {
      "cell_type": "markdown",
      "source": [
        "**3-d example**"
      ],
      "metadata": {
        "id": "as6Aw1u8ZoO8"
      },
      "id": "as6Aw1u8ZoO8"
    },
    {
      "cell_type": "code",
      "source": [
        "b = np.array([[[1, 28, 3], [41, 51, 6]], [[11, 21, 13], [5, 5, 9]]])\n",
        "\n",
        "print(b)"
      ],
      "metadata": {
        "id": "EWHrg6tUZm3i",
        "outputId": "937667e8-af82-4ca7-bd4d-4208b94f8bc9",
        "colab": {
          "base_uri": "https://localhost:8080/"
        }
      },
      "id": "EWHrg6tUZm3i",
      "execution_count": 53,
      "outputs": [
        {
          "output_type": "stream",
          "name": "stdout",
          "text": [
            "[[[ 1 28  3]\n",
            "  [41 51  6]]\n",
            "\n",
            " [[11 21 13]\n",
            "  [ 5  5  9]]]\n"
          ]
        }
      ]
    },
    {
      "cell_type": "code",
      "source": [
        "#get specific elements(ork outside in)\n",
        "print(b[0,1,2])\n",
        "print(b[:,1,:])\n",
        "print(b[:,0,:])"
      ],
      "metadata": {
        "id": "995nmB9SaDf5",
        "outputId": "f71206a8-cf68-480f-a3c2-95dc50c79833",
        "colab": {
          "base_uri": "https://localhost:8080/"
        }
      },
      "id": "995nmB9SaDf5",
      "execution_count": 56,
      "outputs": [
        {
          "output_type": "stream",
          "name": "stdout",
          "text": [
            "6\n",
            "[[41 51  6]\n",
            " [ 5  5  9]]\n",
            "[[ 1 28  3]\n",
            " [11 21 13]]\n"
          ]
        }
      ]
    },
    {
      "cell_type": "code",
      "source": [
        "b[:,1,:] = [[9,9,9],[8,8,8]]\n",
        "print(b)"
      ],
      "metadata": {
        "id": "tJZoyYiWa2rh",
        "outputId": "cd4550ae-ec55-4fbb-ef45-00bcab530d2f",
        "colab": {
          "base_uri": "https://localhost:8080/"
        }
      },
      "id": "tJZoyYiWa2rh",
      "execution_count": 58,
      "outputs": [
        {
          "output_type": "stream",
          "name": "stdout",
          "text": [
            "[[[ 1 28  3]\n",
            "  [ 9  9  9]]\n",
            "\n",
            " [[11 21 13]\n",
            "  [ 8  8  8]]]\n"
          ]
        }
      ]
    },
    {
      "cell_type": "markdown",
      "source": [
        "**Initializing different types of arrays**"
      ],
      "metadata": {
        "id": "douE8HDSbJGH"
      },
      "id": "douE8HDSbJGH"
    },
    {
      "cell_type": "code",
      "source": [
        "# all zeros matrix\n",
        "print(np.zeros(5))\n",
        "print(np.zeros((2,6)))"
      ],
      "metadata": {
        "id": "n5WcsO-4bRlD",
        "outputId": "d8639da2-6fa7-4836-ef65-0c60c98007ac",
        "colab": {
          "base_uri": "https://localhost:8080/"
        }
      },
      "id": "n5WcsO-4bRlD",
      "execution_count": 62,
      "outputs": [
        {
          "output_type": "stream",
          "name": "stdout",
          "text": [
            "[0. 0. 0. 0. 0.]\n",
            "[[0. 0. 0. 0. 0. 0.]\n",
            " [0. 0. 0. 0. 0. 0.]]\n"
          ]
        }
      ]
    },
    {
      "cell_type": "code",
      "source": [
        "#all one's matrix\n",
        "print(np.ones(4))\n",
        "print(np.ones((3,3), dtype= 'int16'))\n",
        "#print(itemsize(np.ones((3,3), dtype= 'int16'))) - wrong\n",
        "print((np.ones((3,3), dtype= 'int16')).itemsize)\n",
        "print(np.ones((2,3,5),dtype = 'float32'))\n",
        "print((np.ones((2,3,5),dtype = 'float32')).itemsize)"
      ],
      "metadata": {
        "id": "pzTHeRyQbbLC",
        "outputId": "0a405efa-675e-4ceb-d249-87453ef37401",
        "colab": {
          "base_uri": "https://localhost:8080/"
        }
      },
      "id": "pzTHeRyQbbLC",
      "execution_count": 81,
      "outputs": [
        {
          "output_type": "stream",
          "name": "stdout",
          "text": [
            "[1.00 1.00 1.00 1.00]\n",
            "[[1 1 1]\n",
            " [1 1 1]\n",
            " [1 1 1]]\n",
            "2\n",
            "[[[1.00 1.00 1.00 1.00 1.00]\n",
            "  [1.00 1.00 1.00 1.00 1.00]\n",
            "  [1.00 1.00 1.00 1.00 1.00]]\n",
            "\n",
            " [[1.00 1.00 1.00 1.00 1.00]\n",
            "  [1.00 1.00 1.00 1.00 1.00]\n",
            "  [1.00 1.00 1.00 1.00 1.00]]]\n",
            "4\n"
          ]
        }
      ]
    },
    {
      "cell_type": "code",
      "source": [
        "#any other number\n",
        "print(np.full((3,2),99,dtype = 'float32'))\n",
        "# Set print options to display float numbers with two decimal places\n",
        "np.set_printoptions(formatter={'float_kind': '{:.2f}'.format})\n",
        "print(np.full((3,2),99,dtype = 'float32'))"
      ],
      "metadata": {
        "id": "J7typOyNb3M8",
        "outputId": "99dcd666-5546-451d-b604-541025e43c16",
        "colab": {
          "base_uri": "https://localhost:8080/"
        }
      },
      "id": "J7typOyNb3M8",
      "execution_count": 83,
      "outputs": [
        {
          "output_type": "stream",
          "name": "stdout",
          "text": [
            "[[99.00 99.00]\n",
            " [99.00 99.00]\n",
            " [99.00 99.00]]\n",
            "[[99.00 99.00]\n",
            " [99.00 99.00]\n",
            " [99.00 99.00]]\n"
          ]
        }
      ]
    },
    {
      "cell_type": "code",
      "source": [
        "#any other number(full_like)\n",
        "print(np.full_like(a,4))"
      ],
      "metadata": {
        "id": "fuxGtdzte2Du",
        "outputId": "87a866c9-e2bb-4c2d-8226-cc052f7d591b",
        "colab": {
          "base_uri": "https://localhost:8080/"
        }
      },
      "id": "fuxGtdzte2Du",
      "execution_count": 85,
      "outputs": [
        {
          "output_type": "stream",
          "name": "stdout",
          "text": [
            "[[4 4 4 4 4 4 4 4]\n",
            " [4 4 4 4 4 4 4 4]]\n"
          ]
        }
      ]
    },
    {
      "cell_type": "code",
      "source": [
        "print(np.full(a.shape,5))"
      ],
      "metadata": {
        "id": "k6YngchngEth",
        "outputId": "8dab8332-68e4-4aaf-f2eb-f1bb1872454c",
        "colab": {
          "base_uri": "https://localhost:8080/"
        }
      },
      "id": "k6YngchngEth",
      "execution_count": 86,
      "outputs": [
        {
          "output_type": "stream",
          "name": "stdout",
          "text": [
            "[[5 5 5 5 5 5 5 5]\n",
            " [5 5 5 5 5 5 5 5]]\n"
          ]
        }
      ]
    },
    {
      "cell_type": "markdown",
      "source": [
        "#Random decimal numbers\n"
      ],
      "metadata": {
        "id": "2K8f1dfFgWgS"
      },
      "id": "2K8f1dfFgWgS"
    },
    {
      "cell_type": "code",
      "source": [
        "#rand() method returns a random float between 0 and 1\n",
        "print(np.random.rand(4,2))\n",
        "print(np.random.rand(4,2,3))"
      ],
      "metadata": {
        "id": "vijzdrv2gORf",
        "outputId": "d2467ed2-a28c-43df-d719-985c87468faa",
        "colab": {
          "base_uri": "https://localhost:8080/"
        }
      },
      "id": "vijzdrv2gORf",
      "execution_count": 98,
      "outputs": [
        {
          "output_type": "stream",
          "name": "stdout",
          "text": [
            "[[0.51 0.99]\n",
            " [0.19 0.31]\n",
            " [0.42 0.71]\n",
            " [0.88 0.69]]\n",
            "[[[0.51 0.46 0.10]\n",
            "  [0.46 0.23 0.83]]\n",
            "\n",
            " [[0.56 0.81 0.41]\n",
            "  [0.99 0.04 0.48]]\n",
            "\n",
            " [[0.12 0.89 0.34]\n",
            "  [0.12 0.81 0.42]]\n",
            "\n",
            " [[0.22 0.88 0.43]\n",
            "  [0.63 0.29 0.29]]]\n"
          ]
        }
      ]
    },
    {
      "cell_type": "code",
      "source": [],
      "metadata": {
        "id": "Vum3F9dIhvFa"
      },
      "id": "Vum3F9dIhvFa",
      "execution_count": null,
      "outputs": []
    }
  ],
  "metadata": {
    "kernelspec": {
      "display_name": "Python 3",
      "name": "python3"
    },
    "language_info": {
      "name": "python"
    },
    "required_libs": [],
    "colab": {
      "provenance": [],
      "include_colab_link": true
    }
  },
  "nbformat": 4,
  "nbformat_minor": 5
}