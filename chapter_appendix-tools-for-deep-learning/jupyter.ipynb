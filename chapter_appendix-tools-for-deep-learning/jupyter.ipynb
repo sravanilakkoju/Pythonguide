{
  "cells": [
    {
      "cell_type": "markdown",
      "metadata": {
        "id": "view-in-github",
        "colab_type": "text"
      },
      "source": [
        "<a href=\"https://colab.research.google.com/github/sravanilakkoju/Pythonguide/blob/main/chapter_appendix-tools-for-deep-learning/jupyter.ipynb\" target=\"_parent\"><img src=\"https://colab.research.google.com/assets/colab-badge.svg\" alt=\"Open In Colab\"/></a>"
      ]
    },
    {
      "cell_type": "markdown",
      "id": "31d9a4c9",
      "metadata": {
        "origin_pos": 0,
        "id": "31d9a4c9"
      },
      "source": [
        "# Using Jupyter Notebooks\n",
        ":label:`sec_jupyter`\n",
        "\n",
        "\n",
        "This section describes how to edit and run the code\n",
        "in each section of this book\n",
        "using the Jupyter Notebook. Make sure you have\n",
        "installed Jupyter and downloaded the\n",
        "code as described in\n",
        ":ref:`chap_installation`.\n",
        "If you want to know more about Jupyter see the excellent tutorial in\n",
        "their [documentation](https://jupyter.readthedocs.io/en/latest/).\n",
        "\n",
        "\n",
        "## Editing and Running the Code Locally\n",
        "\n",
        "Suppose that the local path of the book's code is `xx/yy/d2l-en/`. Use the shell to change the directory to this path (`cd xx/yy/d2l-en`) and run the command `jupyter notebook`. If your browser does not do this automatically, open http://localhost:8888 and you will see the interface of Jupyter and all the folders containing the code of the book, as shown in :numref:`fig_jupyter00`.\n",
        "\n",
        "![The folders containing the code of this book.](https://github.com/d2l-ai/d2l-en-colab/blob/master/img/jupyter00.png?raw=1)\n",
        ":width:`600px`\n",
        ":label:`fig_jupyter00`\n",
        "\n",
        "\n",
        "You can access the notebook files by clicking on the folder displayed on the webpage.\n",
        "They usually have the suffix \".ipynb\".\n",
        "For the sake of brevity, we create a temporary \"test.ipynb\" file.\n",
        "The content displayed after you click it is\n",
        "shown in :numref:`fig_jupyter01`.\n",
        "This notebook includes a markdown cell and a code cell. The content in the markdown cell includes \"This Is a Title\" and \"This is text.\".\n",
        "The code cell contains two lines of Python code.\n",
        "\n",
        "![Markdown and code cells in the \"text.ipynb\" file.](https://github.com/d2l-ai/d2l-en-colab/blob/master/img/jupyter01.png?raw=1)\n",
        ":width:`600px`\n",
        ":label:`fig_jupyter01`\n",
        "\n",
        "\n",
        "Double click on the markdown cell to enter edit mode.\n",
        "Add a new text string \"Hello world.\" at the end of the cell, as shown in :numref:`fig_jupyter02`.\n",
        "\n",
        "![Edit the markdown cell.](https://github.com/d2l-ai/d2l-en-colab/blob/master/img/jupyter02.png?raw=1)\n",
        ":width:`600px`\n",
        ":label:`fig_jupyter02`\n",
        "\n",
        "\n",
        "As demonstrated in :numref:`fig_jupyter03`,\n",
        "click \"Cell\" $\\rightarrow$ \"Run Cells\" in the menu bar to run the edited cell.\n",
        "\n",
        "![Run the cell.](https://github.com/d2l-ai/d2l-en-colab/blob/master/img/jupyter03.png?raw=1)\n",
        ":width:`600px`\n",
        ":label:`fig_jupyter03`\n",
        "\n",
        "After running, the markdown cell is shown in :numref:`fig_jupyter04`.\n",
        "\n",
        "![The markdown cell after running.](https://github.com/d2l-ai/d2l-en-colab/blob/master/img/jupyter04.png?raw=1)\n",
        ":width:`600px`\n",
        ":label:`fig_jupyter04`\n",
        "\n",
        "\n",
        "Next, click on the code cell. Multiply the elements by 2 after the last line of code, as shown in :numref:`fig_jupyter05`.\n",
        "\n",
        "![Edit the code cell.](https://github.com/d2l-ai/d2l-en-colab/blob/master/img/jupyter05.png?raw=1)\n",
        ":width:`600px`\n",
        ":label:`fig_jupyter05`\n",
        "\n",
        "\n",
        "You can also run the cell with a shortcut (\"Ctrl + Enter\" by default) and obtain the output result from :numref:`fig_jupyter06`.\n",
        "\n",
        "![Run the code cell to obtain the output.](https://github.com/d2l-ai/d2l-en-colab/blob/master/img/jupyter06.png?raw=1)\n",
        ":width:`600px`\n",
        ":label:`fig_jupyter06`\n",
        "\n",
        "\n",
        "When a notebook contains more cells, we can click \"Kernel\" $\\rightarrow$ \"Restart & Run All\" in the menu bar to run all the cells in the entire notebook. By clicking \"Help\" $\\rightarrow$ \"Edit Keyboard Shortcuts\" in the menu bar, you can edit the shortcuts according to your preferences.\n",
        "\n",
        "## Advanced Options\n",
        "\n",
        "Beyond local editing two things are quite important: editing the notebooks in the markdown format and running Jupyter remotely.\n",
        "The latter matters when we want to run the code on a faster server.\n",
        "The former matters since Jupyter's native ipynb format stores a lot of auxiliary data that is\n",
        "irrelevant to the content,\n",
        "mostly related to how and where the code is run.\n",
        "This is confusing for Git, making\n",
        "reviewing contributions very difficult.\n",
        "Fortunately there is an alternative---native editing in the markdown format.\n",
        "\n",
        "### Markdown Files in Jupyter\n",
        "\n",
        "If you wish to contribute to the content of this book, you need to modify the\n",
        "source file (md file, not ipynb file) on GitHub.\n",
        "Using the notedown plugin we\n",
        "can modify notebooks in the md format directly in Jupyter.\n",
        "\n",
        "\n",
        "First, install the notedown plugin, run the Jupyter Notebook, and load the plugin:\n",
        "\n",
        "```\n",
        "pip install d2l-notedown  # You may need to uninstall the original notedown.\n",
        "jupyter notebook --NotebookApp.contents_manager_class='notedown.NotedownContentsManager'\n",
        "```\n",
        "\n",
        "You may also turn on the notedown plugin by default whenever you run the Jupyter Notebook.\n",
        "First, generate a Jupyter Notebook configuration file (if it has already been generated, you can skip this step).\n",
        "\n",
        "```\n",
        "jupyter notebook --generate-config\n",
        "```\n",
        "\n",
        "Then, add the following line to the end of the Jupyter Notebook configuration file (for Linux or macOS, usually in the path `~/.jupyter/jupyter_notebook_config.py`):\n",
        "\n",
        "```\n",
        "c.NotebookApp.contents_manager_class = 'notedown.NotedownContentsManager'\n",
        "```\n",
        "\n",
        "After that, you only need to run the `jupyter notebook` command to turn on the notedown plugin by default.\n",
        "\n",
        "### Running Jupyter Notebooks on a Remote Server\n",
        "\n",
        "Sometimes, you may want to run Jupyter notebooks on a remote server and access it through a browser on your local computer. If Linux or macOS is installed on your local machine (Windows can also support this function through third-party software such as PuTTY), you can use port forwarding:\n",
        "\n",
        "```\n",
        "ssh myserver -L 8888:localhost:8888\n",
        "```\n",
        "\n",
        "The above string `myserver` is the address of the remote server.\n",
        "Then we can use http://localhost:8888 to access the remote server `myserver` that runs Jupyter notebooks. We will detail on how to run Jupyter notebooks on AWS instances\n",
        "later in this appendix.\n",
        "\n",
        "### Timing\n",
        "\n",
        "We can use the `ExecuteTime` plugin to time the execution of each code cell in Jupyter notebooks.\n",
        "Use the following commands to install the plugin:\n",
        "\n",
        "```\n",
        "pip install jupyter_contrib_nbextensions\n",
        "jupyter contrib nbextension install --user\n",
        "jupyter nbextension enable execute_time/ExecuteTime\n",
        "```\n",
        "\n",
        "## Summary\n",
        "\n",
        "* Using the Jupyter Notebook tool, we can edit, run, and contribute to each section of the book.\n",
        "* We can run Jupyter notebooks on remote servers using port forwarding.\n",
        "\n",
        "\n",
        "## Exercises\n",
        "\n",
        "1. Edit and run the code in this book with the Jupyter Notebook on your local machine.\n",
        "1. Edit and run the code in this book with the Jupyter Notebook *remotely* via port forwarding.\n",
        "1. Compare the running time of the operations $\\mathbf{A}^\\top \\mathbf{B}$ and $\\mathbf{A} \\mathbf{B}$ for two square matrices in $\\mathbb{R}^{1024 \\times 1024}$. Which one is faster?\n",
        "\n",
        "\n",
        "[Discussions](https://discuss.d2l.ai/t/421)\n"
      ]
    },
    {
      "cell_type": "code",
      "source": [
        "import numpy as np\n",
        "\n",
        "a = np.array([1,2,3],dtype='int16') #e can also specify the data type we need\n",
        "a\n"
      ],
      "metadata": {
        "colab": {
          "base_uri": "https://localhost:8080/"
        },
        "id": "vdIFsvQxE8qX",
        "outputId": "5910223e-f383-4fdc-b79f-6464ef22a911"
      },
      "id": "vdIFsvQxE8qX",
      "execution_count": 137,
      "outputs": [
        {
          "output_type": "execute_result",
          "data": {
            "text/plain": [
              "array([1, 2, 3], dtype=int16)"
            ]
          },
          "metadata": {},
          "execution_count": 137
        }
      ]
    },
    {
      "cell_type": "code",
      "source": [
        "b = np.array([[1,2,3,4,5],[1.2,2.5,5.3,6.9,1.2]])\n",
        "b"
      ],
      "metadata": {
        "colab": {
          "base_uri": "https://localhost:8080/"
        },
        "id": "v_snzEPFSiwA",
        "outputId": "7da947a7-de1e-45fa-d4f3-6b02110e0d37"
      },
      "id": "v_snzEPFSiwA",
      "execution_count": 138,
      "outputs": [
        {
          "output_type": "execute_result",
          "data": {
            "text/plain": [
              "array([[1.00, 2.00, 3.00, 4.00, 5.00],\n",
              "       [1.20, 2.50, 5.30, 6.90, 1.20]])"
            ]
          },
          "metadata": {},
          "execution_count": 138
        }
      ]
    },
    {
      "cell_type": "code",
      "source": [
        "b.ndim #get the dimention of the array"
      ],
      "metadata": {
        "colab": {
          "base_uri": "https://localhost:8080/"
        },
        "id": "-sv8JxusS-Fb",
        "outputId": "6c80395a-7dca-4d82-ca0c-5187da3a3dc5"
      },
      "id": "-sv8JxusS-Fb",
      "execution_count": 139,
      "outputs": [
        {
          "output_type": "execute_result",
          "data": {
            "text/plain": [
              "2"
            ]
          },
          "metadata": {},
          "execution_count": 139
        }
      ]
    },
    {
      "cell_type": "code",
      "source": [
        "#get shape\n",
        "b.shape"
      ],
      "metadata": {
        "colab": {
          "base_uri": "https://localhost:8080/"
        },
        "id": "xSKSqn9TTGMJ",
        "outputId": "8a5c68c3-ffa7-43ff-b497-043b914d38c2"
      },
      "id": "xSKSqn9TTGMJ",
      "execution_count": 140,
      "outputs": [
        {
          "output_type": "execute_result",
          "data": {
            "text/plain": [
              "(2, 5)"
            ]
          },
          "metadata": {},
          "execution_count": 140
        }
      ]
    },
    {
      "cell_type": "code",
      "source": [
        "#get the type\n",
        "print(b.dtype)\n",
        "a.dtype"
      ],
      "metadata": {
        "colab": {
          "base_uri": "https://localhost:8080/"
        },
        "id": "ADhvJZfoTKSZ",
        "outputId": "5f559345-e7eb-4a38-aa00-6a695b5163aa"
      },
      "id": "ADhvJZfoTKSZ",
      "execution_count": 141,
      "outputs": [
        {
          "output_type": "stream",
          "name": "stdout",
          "text": [
            "float64\n"
          ]
        },
        {
          "output_type": "execute_result",
          "data": {
            "text/plain": [
              "dtype('int16')"
            ]
          },
          "metadata": {},
          "execution_count": 141
        }
      ]
    },
    {
      "cell_type": "code",
      "source": [
        "# get size\n",
        "print(a.itemsize)\n",
        "print(b.itemsize)"
      ],
      "metadata": {
        "colab": {
          "base_uri": "https://localhost:8080/"
        },
        "id": "A9-sgtxmTSZI",
        "outputId": "a23d0b6f-0e64-4a3d-a05e-d4297379d180"
      },
      "id": "A9-sgtxmTSZI",
      "execution_count": 142,
      "outputs": [
        {
          "output_type": "stream",
          "name": "stdout",
          "text": [
            "2\n",
            "8\n"
          ]
        }
      ]
    },
    {
      "cell_type": "code",
      "source": [
        "#get the total size\n",
        "print(a.size)\n",
        "print(b.size)\n"
      ],
      "metadata": {
        "colab": {
          "base_uri": "https://localhost:8080/"
        },
        "id": "M9yYA5GeT8Cr",
        "outputId": "8a8b61b2-0f0f-4c7a-c0fc-2329432226c5"
      },
      "id": "M9yYA5GeT8Cr",
      "execution_count": 143,
      "outputs": [
        {
          "output_type": "stream",
          "name": "stdout",
          "text": [
            "3\n",
            "10\n"
          ]
        }
      ]
    },
    {
      "cell_type": "markdown",
      "source": [
        "**Accessing or changing the specific elements using numpy.**"
      ],
      "metadata": {
        "id": "n6A4hCC9UyFF"
      },
      "id": "n6A4hCC9UyFF"
    },
    {
      "cell_type": "code",
      "source": [
        "a = np.array([[1,2,3,4,5,6,7,8],[4,5,16,7,6,5,9,8]])\n",
        "print(a.ndim)"
      ],
      "metadata": {
        "colab": {
          "base_uri": "https://localhost:8080/"
        },
        "id": "yCyZIPc-Ul-H",
        "outputId": "8a3bf682-a5c1-4dd3-d6cd-301939d6e04a"
      },
      "id": "yCyZIPc-Ul-H",
      "execution_count": 144,
      "outputs": [
        {
          "output_type": "stream",
          "name": "stdout",
          "text": [
            "2\n"
          ]
        }
      ]
    },
    {
      "cell_type": "code",
      "source": [
        "print(a)"
      ],
      "metadata": {
        "colab": {
          "base_uri": "https://localhost:8080/"
        },
        "id": "0MrHHBP3Vvvl",
        "outputId": "9da215df-4266-4930-c81c-a37f3d69d7f2"
      },
      "id": "0MrHHBP3Vvvl",
      "execution_count": 145,
      "outputs": [
        {
          "output_type": "stream",
          "name": "stdout",
          "text": [
            "[[ 1  2  3  4  5  6  7  8]\n",
            " [ 4  5 16  7  6  5  9  8]]\n"
          ]
        }
      ]
    },
    {
      "cell_type": "code",
      "source": [
        "#get a specific element[r,c]\n",
        "print(a[1,4])\n",
        "#negitive indexing\n",
        "print(a[-1,-3])"
      ],
      "metadata": {
        "colab": {
          "base_uri": "https://localhost:8080/"
        },
        "id": "GQkBFC6YV10k",
        "outputId": "b51d085a-0422-4117-a040-2f22449426ae"
      },
      "id": "GQkBFC6YV10k",
      "execution_count": 146,
      "outputs": [
        {
          "output_type": "stream",
          "name": "stdout",
          "text": [
            "6\n",
            "5\n"
          ]
        }
      ]
    },
    {
      "cell_type": "code",
      "source": [
        "#get a specific row\n",
        "print(a[0])\n",
        "print(a[0,:])"
      ],
      "metadata": {
        "colab": {
          "base_uri": "https://localhost:8080/"
        },
        "id": "QtyQ47PwWfpj",
        "outputId": "10fce25f-54f0-43d2-d86a-1ac478ce1070"
      },
      "id": "QtyQ47PwWfpj",
      "execution_count": 147,
      "outputs": [
        {
          "output_type": "stream",
          "name": "stdout",
          "text": [
            "[1 2 3 4 5 6 7 8]\n",
            "[1 2 3 4 5 6 7 8]\n"
          ]
        }
      ]
    },
    {
      "cell_type": "code",
      "source": [
        "#get a specific column\n",
        "a[:,1] #doesnot gives the specified output\n",
        "#[startindex:endindex:stepindex]\n",
        "print(a[0,1:6:2])\n",
        "print(a[0,1:-1:2])"
      ],
      "metadata": {
        "colab": {
          "base_uri": "https://localhost:8080/"
        },
        "id": "Gq_HPIvaWuwO",
        "outputId": "63510a76-1e49-4eca-ee29-9cdfb1510a53"
      },
      "id": "Gq_HPIvaWuwO",
      "execution_count": 148,
      "outputs": [
        {
          "output_type": "stream",
          "name": "stdout",
          "text": [
            "[2 4 6]\n",
            "[2 4 6]\n"
          ]
        }
      ]
    },
    {
      "cell_type": "code",
      "source": [
        "print(a[1,5])"
      ],
      "metadata": {
        "colab": {
          "base_uri": "https://localhost:8080/"
        },
        "id": "7WrTV2PuYrra",
        "outputId": "198df624-6705-4a91-93c9-8a82f81ac2ec"
      },
      "id": "7WrTV2PuYrra",
      "execution_count": 149,
      "outputs": [
        {
          "output_type": "stream",
          "name": "stdout",
          "text": [
            "5\n"
          ]
        }
      ]
    },
    {
      "cell_type": "code",
      "source": [
        "a[1,5] = 20\n",
        "print(a)\n",
        "\n",
        "a[:,2] = 5\n",
        "print(a)\n",
        "\n",
        "a[:,2] = [1,9]\n",
        "print(a)\n"
      ],
      "metadata": {
        "colab": {
          "base_uri": "https://localhost:8080/"
        },
        "id": "eJ98krdrYeos",
        "outputId": "a45c3175-60bd-462c-c6d4-9148a1f50871"
      },
      "id": "eJ98krdrYeos",
      "execution_count": 150,
      "outputs": [
        {
          "output_type": "stream",
          "name": "stdout",
          "text": [
            "[[ 1  2  3  4  5  6  7  8]\n",
            " [ 4  5 16  7  6 20  9  8]]\n",
            "[[ 1  2  5  4  5  6  7  8]\n",
            " [ 4  5  5  7  6 20  9  8]]\n",
            "[[ 1  2  1  4  5  6  7  8]\n",
            " [ 4  5  9  7  6 20  9  8]]\n"
          ]
        }
      ]
    },
    {
      "cell_type": "markdown",
      "source": [
        "**3-d example**"
      ],
      "metadata": {
        "id": "as6Aw1u8ZoO8"
      },
      "id": "as6Aw1u8ZoO8"
    },
    {
      "cell_type": "code",
      "source": [
        "b = np.array([[[1, 28, 3], [41, 51, 6]], [[11, 21, 13], [5, 5, 9]]])\n",
        "\n",
        "print(b)"
      ],
      "metadata": {
        "colab": {
          "base_uri": "https://localhost:8080/"
        },
        "id": "EWHrg6tUZm3i",
        "outputId": "a60ba5c3-63ad-42f3-cc3a-f367e2350c40"
      },
      "id": "EWHrg6tUZm3i",
      "execution_count": 151,
      "outputs": [
        {
          "output_type": "stream",
          "name": "stdout",
          "text": [
            "[[[ 1 28  3]\n",
            "  [41 51  6]]\n",
            "\n",
            " [[11 21 13]\n",
            "  [ 5  5  9]]]\n"
          ]
        }
      ]
    },
    {
      "cell_type": "code",
      "source": [
        "#get specific elements(ork outside in)\n",
        "print(b[0,1,2])\n",
        "print(b[:,1,:])\n",
        "print(b[:,0,:])"
      ],
      "metadata": {
        "colab": {
          "base_uri": "https://localhost:8080/"
        },
        "id": "995nmB9SaDf5",
        "outputId": "6cb6d983-b8b2-4788-cb6e-214be30b579e"
      },
      "id": "995nmB9SaDf5",
      "execution_count": 152,
      "outputs": [
        {
          "output_type": "stream",
          "name": "stdout",
          "text": [
            "6\n",
            "[[41 51  6]\n",
            " [ 5  5  9]]\n",
            "[[ 1 28  3]\n",
            " [11 21 13]]\n"
          ]
        }
      ]
    },
    {
      "cell_type": "code",
      "source": [
        "b[:,1,:] = [[9,9,9],[8,8,8]]\n",
        "print(b)"
      ],
      "metadata": {
        "colab": {
          "base_uri": "https://localhost:8080/"
        },
        "id": "tJZoyYiWa2rh",
        "outputId": "5b8d08a7-f054-4359-90da-0aff12d0dda2"
      },
      "id": "tJZoyYiWa2rh",
      "execution_count": 153,
      "outputs": [
        {
          "output_type": "stream",
          "name": "stdout",
          "text": [
            "[[[ 1 28  3]\n",
            "  [ 9  9  9]]\n",
            "\n",
            " [[11 21 13]\n",
            "  [ 8  8  8]]]\n"
          ]
        }
      ]
    },
    {
      "cell_type": "markdown",
      "source": [
        "**Initializing different types of arrays**"
      ],
      "metadata": {
        "id": "douE8HDSbJGH"
      },
      "id": "douE8HDSbJGH"
    },
    {
      "cell_type": "code",
      "source": [
        "# all zeros matrix\n",
        "print(np.zeros(5))\n",
        "print(np.zeros((2,6)))"
      ],
      "metadata": {
        "colab": {
          "base_uri": "https://localhost:8080/"
        },
        "id": "n5WcsO-4bRlD",
        "outputId": "4ed238c6-1cb2-4909-ce9b-179d20de3154"
      },
      "id": "n5WcsO-4bRlD",
      "execution_count": 154,
      "outputs": [
        {
          "output_type": "stream",
          "name": "stdout",
          "text": [
            "[0.00 0.00 0.00 0.00 0.00]\n",
            "[[0.00 0.00 0.00 0.00 0.00 0.00]\n",
            " [0.00 0.00 0.00 0.00 0.00 0.00]]\n"
          ]
        }
      ]
    },
    {
      "cell_type": "code",
      "source": [
        "#all one's matrix\n",
        "print(np.ones(4))\n",
        "print(np.ones((3,3), dtype= 'int16'))\n",
        "#print(itemsize(np.ones((3,3), dtype= 'int16'))) - wrong\n",
        "print((np.ones((3,3), dtype= 'int16')).itemsize)\n",
        "print(np.ones((2,3,5),dtype = 'float32'))\n",
        "print((np.ones((2,3,5),dtype = 'float32')).itemsize)"
      ],
      "metadata": {
        "colab": {
          "base_uri": "https://localhost:8080/"
        },
        "id": "pzTHeRyQbbLC",
        "outputId": "99d8479a-24b6-47e9-8edb-b8fea19f8aa3"
      },
      "id": "pzTHeRyQbbLC",
      "execution_count": 155,
      "outputs": [
        {
          "output_type": "stream",
          "name": "stdout",
          "text": [
            "[1.00 1.00 1.00 1.00]\n",
            "[[1 1 1]\n",
            " [1 1 1]\n",
            " [1 1 1]]\n",
            "2\n",
            "[[[1.00 1.00 1.00 1.00 1.00]\n",
            "  [1.00 1.00 1.00 1.00 1.00]\n",
            "  [1.00 1.00 1.00 1.00 1.00]]\n",
            "\n",
            " [[1.00 1.00 1.00 1.00 1.00]\n",
            "  [1.00 1.00 1.00 1.00 1.00]\n",
            "  [1.00 1.00 1.00 1.00 1.00]]]\n",
            "4\n"
          ]
        }
      ]
    },
    {
      "cell_type": "code",
      "source": [
        "#any other number\n",
        "print(np.full((3,2),99,dtype = 'float32'))\n",
        "# Set print options to display float numbers with two decimal places\n",
        "np.set_printoptions(formatter={'float_kind': '{:.2f}'.format})\n",
        "print(np.full((3,2),99,dtype = 'float32'))"
      ],
      "metadata": {
        "colab": {
          "base_uri": "https://localhost:8080/"
        },
        "id": "J7typOyNb3M8",
        "outputId": "31542a3a-0580-4cef-cb29-8c010bf513d7"
      },
      "id": "J7typOyNb3M8",
      "execution_count": 156,
      "outputs": [
        {
          "output_type": "stream",
          "name": "stdout",
          "text": [
            "[[99.00 99.00]\n",
            " [99.00 99.00]\n",
            " [99.00 99.00]]\n",
            "[[99.00 99.00]\n",
            " [99.00 99.00]\n",
            " [99.00 99.00]]\n"
          ]
        }
      ]
    },
    {
      "cell_type": "code",
      "source": [
        "#any other number(full_like)\n",
        "print(np.full_like(a,4))"
      ],
      "metadata": {
        "colab": {
          "base_uri": "https://localhost:8080/"
        },
        "id": "fuxGtdzte2Du",
        "outputId": "78db0487-3af8-446d-fec0-cc40eaaafcdc"
      },
      "id": "fuxGtdzte2Du",
      "execution_count": 157,
      "outputs": [
        {
          "output_type": "stream",
          "name": "stdout",
          "text": [
            "[[4 4 4 4 4 4 4 4]\n",
            " [4 4 4 4 4 4 4 4]]\n"
          ]
        }
      ]
    },
    {
      "cell_type": "code",
      "source": [
        "print(np.full(a.shape,5))"
      ],
      "metadata": {
        "colab": {
          "base_uri": "https://localhost:8080/"
        },
        "id": "k6YngchngEth",
        "outputId": "44dc3cd6-e9db-4c6f-a74b-d97a3738eb65"
      },
      "id": "k6YngchngEth",
      "execution_count": 158,
      "outputs": [
        {
          "output_type": "stream",
          "name": "stdout",
          "text": [
            "[[5 5 5 5 5 5 5 5]\n",
            " [5 5 5 5 5 5 5 5]]\n"
          ]
        }
      ]
    },
    {
      "cell_type": "markdown",
      "source": [
        "#Random decimal numbers\n"
      ],
      "metadata": {
        "id": "2K8f1dfFgWgS"
      },
      "id": "2K8f1dfFgWgS"
    },
    {
      "cell_type": "code",
      "source": [
        "#rand() method returns a random float between 0 and 1\n",
        "print(np.random.rand(4,2))\n",
        "print(np.random.rand(4,2,3))"
      ],
      "metadata": {
        "colab": {
          "base_uri": "https://localhost:8080/"
        },
        "id": "vijzdrv2gORf",
        "outputId": "233ffea8-a9ae-4476-f769-cf98af83edc3"
      },
      "id": "vijzdrv2gORf",
      "execution_count": 159,
      "outputs": [
        {
          "output_type": "stream",
          "name": "stdout",
          "text": [
            "[[0.47 0.99]\n",
            " [0.12 0.26]\n",
            " [0.54 0.95]\n",
            " [0.82 0.65]]\n",
            "[[[0.51 0.29 0.68]\n",
            "  [0.92 0.04 0.94]]\n",
            "\n",
            " [[0.29 0.38 0.91]\n",
            "  [0.99 0.48 0.20]]\n",
            "\n",
            " [[0.61 0.31 0.39]\n",
            "  [0.73 0.21 0.80]]\n",
            "\n",
            " [[0.00 0.73 0.96]\n",
            "  [0.41 0.88 0.80]]]\n"
          ]
        }
      ]
    },
    {
      "cell_type": "code",
      "source": [
        "from numpy import random\n",
        "x = random.rand(4,2)\n",
        "print(x)\n",
        "x1=np.random.randint(100, size=(5))\n",
        "print(x1)"
      ],
      "metadata": {
        "colab": {
          "base_uri": "https://localhost:8080/"
        },
        "id": "Vum3F9dIhvFa",
        "outputId": "3f62a373-a9e2-40cd-f17e-36c5b327b436"
      },
      "id": "Vum3F9dIhvFa",
      "execution_count": 160,
      "outputs": [
        {
          "output_type": "stream",
          "name": "stdout",
          "text": [
            "[[0.04 0.19]\n",
            " [0.30 0.13]\n",
            " [0.06 0.61]\n",
            " [0.63 0.16]]\n",
            "[98 41 17 28 46]\n"
          ]
        }
      ]
    },
    {
      "cell_type": "code",
      "source": [
        "print(np.random.random_sample(a.shape)) #another method"
      ],
      "metadata": {
        "id": "RvctTUegkuCJ",
        "outputId": "8fdb7a3a-e146-4cb8-da2b-bad67ab658dd",
        "colab": {
          "base_uri": "https://localhost:8080/"
        }
      },
      "id": "RvctTUegkuCJ",
      "execution_count": 161,
      "outputs": [
        {
          "output_type": "stream",
          "name": "stdout",
          "text": [
            "[[0.34 0.52 0.37 0.72 0.10 0.35 0.26 0.18]\n",
            " [0.37 0.05 0.59 0.93 0.07 0.36 0.08 0.31]]\n"
          ]
        }
      ]
    },
    {
      "cell_type": "code",
      "source": [
        "#random intreger values\n",
        "print(random.randint(20,size=(2,2)))\n",
        "\n",
        "random.randint(-2,7,size=(3,3)) #(startvalue,endvalue,matrixsize)"
      ],
      "metadata": {
        "id": "rp4Sh-XFk6hh",
        "outputId": "f22720b0-dce0-464a-b81b-9b829ba71d99",
        "colab": {
          "base_uri": "https://localhost:8080/"
        }
      },
      "id": "rp4Sh-XFk6hh",
      "execution_count": 164,
      "outputs": [
        {
          "output_type": "stream",
          "name": "stdout",
          "text": [
            "[[ 4 18]\n",
            " [ 8  8]]\n"
          ]
        },
        {
          "output_type": "execute_result",
          "data": {
            "text/plain": [
              "array([[6, 5, 4],\n",
              "       [4, 4, 5],\n",
              "       [1, 3, 1]])"
            ]
          },
          "metadata": {},
          "execution_count": 164
        }
      ]
    },
    {
      "cell_type": "code",
      "source": [
        "#identity matrix\n",
        "print(np.identity(3))\n",
        "print(np.identity((4),dtype='int16'))"
      ],
      "metadata": {
        "id": "Ph2JDER9x8iR",
        "outputId": "ee1803da-1a27-4fa0-d70c-e3ecfb6ca106",
        "colab": {
          "base_uri": "https://localhost:8080/"
        }
      },
      "id": "Ph2JDER9x8iR",
      "execution_count": 165,
      "outputs": [
        {
          "output_type": "stream",
          "name": "stdout",
          "text": [
            "[[1.00 0.00 0.00]\n",
            " [0.00 1.00 0.00]\n",
            " [0.00 0.00 1.00]]\n",
            "[[1 0 0 0]\n",
            " [0 1 0 0]\n",
            " [0 0 1 0]\n",
            " [0 0 0 1]]\n"
          ]
        }
      ]
    },
    {
      "cell_type": "code",
      "source": [
        "#repeat an array...\n",
        "arr = np.array([1,2,3])\n",
        "r1 = np.repeat(arr,3,axis = 0)\n",
        "print(r1)\n",
        "\n",
        "arr1 = np.array([[4,5,6]])\n",
        "r2 = np.repeat(arr1,3,axis = 0)\n",
        "print(r2)\n",
        "\n",
        "arr2 = np.array([[4,5,6]])\n",
        "r3 = np.repeat(arr2,5,axis = 1)\n",
        "print(r3)"
      ],
      "metadata": {
        "id": "gECPSUr4yaSl",
        "outputId": "e9509280-b397-4de4-c3d5-2a6b5763e765",
        "colab": {
          "base_uri": "https://localhost:8080/"
        }
      },
      "id": "gECPSUr4yaSl",
      "execution_count": 183,
      "outputs": [
        {
          "output_type": "stream",
          "name": "stdout",
          "text": [
            "[1 1 1 2 2 2 3 3 3]\n",
            "[[4 5 6]\n",
            " [4 5 6]\n",
            " [4 5 6]]\n",
            "[[4 4 4 4 4 5 5 5 5 5 6 6 6 6 6]]\n"
          ]
        }
      ]
    }
  ],
  "metadata": {
    "kernelspec": {
      "display_name": "Python 3",
      "name": "python3"
    },
    "language_info": {
      "name": "python"
    },
    "required_libs": [],
    "colab": {
      "provenance": [],
      "include_colab_link": true
    }
  },
  "nbformat": 4,
  "nbformat_minor": 5
}