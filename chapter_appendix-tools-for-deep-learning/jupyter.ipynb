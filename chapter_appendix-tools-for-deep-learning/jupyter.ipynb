{
  "cells": [
    {
      "cell_type": "markdown",
      "metadata": {
        "id": "view-in-github",
        "colab_type": "text"
      },
      "source": [
        "<a href=\"https://colab.research.google.com/github/sravanilakkoju/Pythonguide/blob/main/chapter_appendix-tools-for-deep-learning/jupyter.ipynb\" target=\"_parent\"><img src=\"https://colab.research.google.com/assets/colab-badge.svg\" alt=\"Open In Colab\"/></a>"
      ]
    },
    {
      "cell_type": "markdown",
      "id": "31d9a4c9",
      "metadata": {
        "origin_pos": 0,
        "id": "31d9a4c9"
      },
      "source": [
        "# Using Jupyter Notebooks\n",
        ":label:`sec_jupyter`\n",
        "\n",
        "\n",
        "This section describes how to edit and run the code\n",
        "in each section of this book\n",
        "using the Jupyter Notebook. Make sure you have\n",
        "installed Jupyter and downloaded the\n",
        "code as described in\n",
        ":ref:`chap_installation`.\n",
        "If you want to know more about Jupyter see the excellent tutorial in\n",
        "their [documentation](https://jupyter.readthedocs.io/en/latest/).\n",
        "\n",
        "\n",
        "## Editing and Running the Code Locally\n",
        "\n",
        "Suppose that the local path of the book's code is `xx/yy/d2l-en/`. Use the shell to change the directory to this path (`cd xx/yy/d2l-en`) and run the command `jupyter notebook`. If your browser does not do this automatically, open http://localhost:8888 and you will see the interface of Jupyter and all the folders containing the code of the book, as shown in :numref:`fig_jupyter00`.\n",
        "\n",
        "![The folders containing the code of this book.](https://github.com/d2l-ai/d2l-en-colab/blob/master/img/jupyter00.png?raw=1)\n",
        ":width:`600px`\n",
        ":label:`fig_jupyter00`\n",
        "\n",
        "\n",
        "You can access the notebook files by clicking on the folder displayed on the webpage.\n",
        "They usually have the suffix \".ipynb\".\n",
        "For the sake of brevity, we create a temporary \"test.ipynb\" file.\n",
        "The content displayed after you click it is\n",
        "shown in :numref:`fig_jupyter01`.\n",
        "This notebook includes a markdown cell and a code cell. The content in the markdown cell includes \"This Is a Title\" and \"This is text.\".\n",
        "The code cell contains two lines of Python code.\n",
        "\n",
        "![Markdown and code cells in the \"text.ipynb\" file.](https://github.com/d2l-ai/d2l-en-colab/blob/master/img/jupyter01.png?raw=1)\n",
        ":width:`600px`\n",
        ":label:`fig_jupyter01`\n",
        "\n",
        "\n",
        "Double click on the markdown cell to enter edit mode.\n",
        "Add a new text string \"Hello world.\" at the end of the cell, as shown in :numref:`fig_jupyter02`.\n",
        "\n",
        "![Edit the markdown cell.](https://github.com/d2l-ai/d2l-en-colab/blob/master/img/jupyter02.png?raw=1)\n",
        ":width:`600px`\n",
        ":label:`fig_jupyter02`\n",
        "\n",
        "\n",
        "As demonstrated in :numref:`fig_jupyter03`,\n",
        "click \"Cell\" $\\rightarrow$ \"Run Cells\" in the menu bar to run the edited cell.\n",
        "\n",
        "![Run the cell.](https://github.com/d2l-ai/d2l-en-colab/blob/master/img/jupyter03.png?raw=1)\n",
        ":width:`600px`\n",
        ":label:`fig_jupyter03`\n",
        "\n",
        "After running, the markdown cell is shown in :numref:`fig_jupyter04`.\n",
        "\n",
        "![The markdown cell after running.](https://github.com/d2l-ai/d2l-en-colab/blob/master/img/jupyter04.png?raw=1)\n",
        ":width:`600px`\n",
        ":label:`fig_jupyter04`\n",
        "\n",
        "\n",
        "Next, click on the code cell. Multiply the elements by 2 after the last line of code, as shown in :numref:`fig_jupyter05`.\n",
        "\n",
        "![Edit the code cell.](https://github.com/d2l-ai/d2l-en-colab/blob/master/img/jupyter05.png?raw=1)\n",
        ":width:`600px`\n",
        ":label:`fig_jupyter05`\n",
        "\n",
        "\n",
        "You can also run the cell with a shortcut (\"Ctrl + Enter\" by default) and obtain the output result from :numref:`fig_jupyter06`.\n",
        "\n",
        "![Run the code cell to obtain the output.](https://github.com/d2l-ai/d2l-en-colab/blob/master/img/jupyter06.png?raw=1)\n",
        ":width:`600px`\n",
        ":label:`fig_jupyter06`\n",
        "\n",
        "\n",
        "When a notebook contains more cells, we can click \"Kernel\" $\\rightarrow$ \"Restart & Run All\" in the menu bar to run all the cells in the entire notebook. By clicking \"Help\" $\\rightarrow$ \"Edit Keyboard Shortcuts\" in the menu bar, you can edit the shortcuts according to your preferences.\n",
        "\n",
        "## Advanced Options\n",
        "\n",
        "Beyond local editing two things are quite important: editing the notebooks in the markdown format and running Jupyter remotely.\n",
        "The latter matters when we want to run the code on a faster server.\n",
        "The former matters since Jupyter's native ipynb format stores a lot of auxiliary data that is\n",
        "irrelevant to the content,\n",
        "mostly related to how and where the code is run.\n",
        "This is confusing for Git, making\n",
        "reviewing contributions very difficult.\n",
        "Fortunately there is an alternative---native editing in the markdown format.\n",
        "\n",
        "### Markdown Files in Jupyter\n",
        "\n",
        "If you wish to contribute to the content of this book, you need to modify the\n",
        "source file (md file, not ipynb file) on GitHub.\n",
        "Using the notedown plugin we\n",
        "can modify notebooks in the md format directly in Jupyter.\n",
        "\n",
        "\n",
        "First, install the notedown plugin, run the Jupyter Notebook, and load the plugin:\n",
        "\n",
        "```\n",
        "pip install d2l-notedown  # You may need to uninstall the original notedown.\n",
        "jupyter notebook --NotebookApp.contents_manager_class='notedown.NotedownContentsManager'\n",
        "```\n",
        "\n",
        "You may also turn on the notedown plugin by default whenever you run the Jupyter Notebook.\n",
        "First, generate a Jupyter Notebook configuration file (if it has already been generated, you can skip this step).\n",
        "\n",
        "```\n",
        "jupyter notebook --generate-config\n",
        "```\n",
        "\n",
        "Then, add the following line to the end of the Jupyter Notebook configuration file (for Linux or macOS, usually in the path `~/.jupyter/jupyter_notebook_config.py`):\n",
        "\n",
        "```\n",
        "c.NotebookApp.contents_manager_class = 'notedown.NotedownContentsManager'\n",
        "```\n",
        "\n",
        "After that, you only need to run the `jupyter notebook` command to turn on the notedown plugin by default.\n",
        "\n",
        "### Running Jupyter Notebooks on a Remote Server\n",
        "\n",
        "Sometimes, you may want to run Jupyter notebooks on a remote server and access it through a browser on your local computer. If Linux or macOS is installed on your local machine (Windows can also support this function through third-party software such as PuTTY), you can use port forwarding:\n",
        "\n",
        "```\n",
        "ssh myserver -L 8888:localhost:8888\n",
        "```\n",
        "\n",
        "The above string `myserver` is the address of the remote server.\n",
        "Then we can use http://localhost:8888 to access the remote server `myserver` that runs Jupyter notebooks. We will detail on how to run Jupyter notebooks on AWS instances\n",
        "later in this appendix.\n",
        "\n",
        "### Timing\n",
        "\n",
        "We can use the `ExecuteTime` plugin to time the execution of each code cell in Jupyter notebooks.\n",
        "Use the following commands to install the plugin:\n",
        "\n",
        "```\n",
        "pip install jupyter_contrib_nbextensions\n",
        "jupyter contrib nbextension install --user\n",
        "jupyter nbextension enable execute_time/ExecuteTime\n",
        "```\n",
        "\n",
        "## Summary\n",
        "\n",
        "* Using the Jupyter Notebook tool, we can edit, run, and contribute to each section of the book.\n",
        "* We can run Jupyter notebooks on remote servers using port forwarding.\n",
        "\n",
        "\n",
        "## Exercises\n",
        "\n",
        "1. Edit and run the code in this book with the Jupyter Notebook on your local machine.\n",
        "1. Edit and run the code in this book with the Jupyter Notebook *remotely* via port forwarding.\n",
        "1. Compare the running time of the operations $\\mathbf{A}^\\top \\mathbf{B}$ and $\\mathbf{A} \\mathbf{B}$ for two square matrices in $\\mathbb{R}^{1024 \\times 1024}$. Which one is faster?\n",
        "\n",
        "\n",
        "[Discussions](https://discuss.d2l.ai/t/421)\n"
      ]
    },
    {
      "cell_type": "code",
      "source": [
        "import numpy as np\n",
        "\n",
        "a = np.array([1,2,3],dtype='int16') #e can also specify the data type we need\n",
        "a\n"
      ],
      "metadata": {
        "colab": {
          "base_uri": "https://localhost:8080/"
        },
        "id": "vdIFsvQxE8qX",
        "outputId": "9eba55ce-a449-44f3-bb96-03b61433a808"
      },
      "id": "vdIFsvQxE8qX",
      "execution_count": 4,
      "outputs": [
        {
          "output_type": "execute_result",
          "data": {
            "text/plain": [
              "array([1, 2, 3], dtype=int16)"
            ]
          },
          "metadata": {},
          "execution_count": 4
        }
      ]
    },
    {
      "cell_type": "code",
      "source": [
        "b = np.array([[1,2,3,4,5],[1.2,2.5,5.3,6.9,1.2]])\n",
        "b"
      ],
      "metadata": {
        "colab": {
          "base_uri": "https://localhost:8080/"
        },
        "id": "v_snzEPFSiwA",
        "outputId": "8960db8e-4336-4873-8f3f-a7d8cc26a49f"
      },
      "id": "v_snzEPFSiwA",
      "execution_count": 5,
      "outputs": [
        {
          "output_type": "execute_result",
          "data": {
            "text/plain": [
              "array([[1. , 2. , 3. , 4. , 5. ],\n",
              "       [1.2, 2.5, 5.3, 6.9, 1.2]])"
            ]
          },
          "metadata": {},
          "execution_count": 5
        }
      ]
    },
    {
      "cell_type": "code",
      "source": [
        "b.ndim #get the dimention of the array"
      ],
      "metadata": {
        "colab": {
          "base_uri": "https://localhost:8080/"
        },
        "id": "-sv8JxusS-Fb",
        "outputId": "897a6c2b-8354-453e-d483-81fa1dc7801c"
      },
      "id": "-sv8JxusS-Fb",
      "execution_count": 6,
      "outputs": [
        {
          "output_type": "execute_result",
          "data": {
            "text/plain": [
              "2"
            ]
          },
          "metadata": {},
          "execution_count": 6
        }
      ]
    },
    {
      "cell_type": "code",
      "source": [
        "#get shape\n",
        "b.shape"
      ],
      "metadata": {
        "colab": {
          "base_uri": "https://localhost:8080/"
        },
        "id": "xSKSqn9TTGMJ",
        "outputId": "4d5ff2e2-e0e5-4664-f0fa-0230bc3e1f53"
      },
      "id": "xSKSqn9TTGMJ",
      "execution_count": 7,
      "outputs": [
        {
          "output_type": "execute_result",
          "data": {
            "text/plain": [
              "(2, 5)"
            ]
          },
          "metadata": {},
          "execution_count": 7
        }
      ]
    },
    {
      "cell_type": "code",
      "source": [
        "#get the type\n",
        "print(b.dtype)\n",
        "a.dtype"
      ],
      "metadata": {
        "colab": {
          "base_uri": "https://localhost:8080/"
        },
        "id": "ADhvJZfoTKSZ",
        "outputId": "41d97df2-4193-4556-b565-bf8761389025"
      },
      "id": "ADhvJZfoTKSZ",
      "execution_count": 8,
      "outputs": [
        {
          "output_type": "stream",
          "name": "stdout",
          "text": [
            "float64\n"
          ]
        },
        {
          "output_type": "execute_result",
          "data": {
            "text/plain": [
              "dtype('int16')"
            ]
          },
          "metadata": {},
          "execution_count": 8
        }
      ]
    },
    {
      "cell_type": "code",
      "source": [
        "# get size\n",
        "print(a.itemsize)\n",
        "print(b.itemsize)"
      ],
      "metadata": {
        "colab": {
          "base_uri": "https://localhost:8080/"
        },
        "id": "A9-sgtxmTSZI",
        "outputId": "25d92bb8-296b-4891-d1c1-e3953e19bd65"
      },
      "id": "A9-sgtxmTSZI",
      "execution_count": 9,
      "outputs": [
        {
          "output_type": "stream",
          "name": "stdout",
          "text": [
            "2\n",
            "8\n"
          ]
        }
      ]
    },
    {
      "cell_type": "code",
      "source": [
        "#get the total size\n",
        "print(a.size)\n",
        "print(b.size)\n"
      ],
      "metadata": {
        "colab": {
          "base_uri": "https://localhost:8080/"
        },
        "id": "M9yYA5GeT8Cr",
        "outputId": "f0eb46a7-c301-4084-918d-0f11c10b958d"
      },
      "id": "M9yYA5GeT8Cr",
      "execution_count": 10,
      "outputs": [
        {
          "output_type": "stream",
          "name": "stdout",
          "text": [
            "3\n",
            "10\n"
          ]
        }
      ]
    },
    {
      "cell_type": "markdown",
      "source": [
        "**Accessing or changing the specific elements using numpy.**"
      ],
      "metadata": {
        "id": "n6A4hCC9UyFF"
      },
      "id": "n6A4hCC9UyFF"
    },
    {
      "cell_type": "code",
      "source": [
        "a = np.array([[1,2,3,4,5,6,7,8],[4,5,16,7,6,5,9,8]])\n",
        "print(a.ndim)"
      ],
      "metadata": {
        "colab": {
          "base_uri": "https://localhost:8080/"
        },
        "id": "yCyZIPc-Ul-H",
        "outputId": "b20e646f-db41-4ace-8a8a-f9a2372bd681"
      },
      "id": "yCyZIPc-Ul-H",
      "execution_count": 11,
      "outputs": [
        {
          "output_type": "stream",
          "name": "stdout",
          "text": [
            "2\n"
          ]
        }
      ]
    },
    {
      "cell_type": "code",
      "source": [
        "print(a)"
      ],
      "metadata": {
        "colab": {
          "base_uri": "https://localhost:8080/"
        },
        "id": "0MrHHBP3Vvvl",
        "outputId": "4edfece5-bfa6-4e5d-9575-21cd1ae7318b"
      },
      "id": "0MrHHBP3Vvvl",
      "execution_count": 12,
      "outputs": [
        {
          "output_type": "stream",
          "name": "stdout",
          "text": [
            "[[ 1  2  3  4  5  6  7  8]\n",
            " [ 4  5 16  7  6  5  9  8]]\n"
          ]
        }
      ]
    },
    {
      "cell_type": "code",
      "source": [
        "#get a specific element[r,c]\n",
        "print(a[1,4])\n",
        "#negitive indexing\n",
        "print(a[-1,-3])"
      ],
      "metadata": {
        "colab": {
          "base_uri": "https://localhost:8080/"
        },
        "id": "GQkBFC6YV10k",
        "outputId": "27d1bb61-70ee-4c34-cfa7-e0906b26d80f"
      },
      "id": "GQkBFC6YV10k",
      "execution_count": 13,
      "outputs": [
        {
          "output_type": "stream",
          "name": "stdout",
          "text": [
            "6\n",
            "5\n"
          ]
        }
      ]
    },
    {
      "cell_type": "code",
      "source": [
        "#get a specific row\n",
        "print(a[0])\n",
        "print(a[0,:])"
      ],
      "metadata": {
        "colab": {
          "base_uri": "https://localhost:8080/"
        },
        "id": "QtyQ47PwWfpj",
        "outputId": "972a9539-2255-4921-ee8c-fb11f8f6b463"
      },
      "id": "QtyQ47PwWfpj",
      "execution_count": 14,
      "outputs": [
        {
          "output_type": "stream",
          "name": "stdout",
          "text": [
            "[1 2 3 4 5 6 7 8]\n",
            "[1 2 3 4 5 6 7 8]\n"
          ]
        }
      ]
    },
    {
      "cell_type": "code",
      "source": [
        "#get a specific column\n",
        "a[:,1] #doesnot gives the specified output\n",
        "#[startindex:endindex:stepindex]\n",
        "print(a[0,1:6:2])\n",
        "print(a[0,1:-1:2])"
      ],
      "metadata": {
        "colab": {
          "base_uri": "https://localhost:8080/"
        },
        "id": "Gq_HPIvaWuwO",
        "outputId": "ecc3770f-e072-435a-ff41-a7cca64753b1"
      },
      "id": "Gq_HPIvaWuwO",
      "execution_count": 15,
      "outputs": [
        {
          "output_type": "stream",
          "name": "stdout",
          "text": [
            "[2 4 6]\n",
            "[2 4 6]\n"
          ]
        }
      ]
    },
    {
      "cell_type": "code",
      "source": [
        "print(a[1,5])"
      ],
      "metadata": {
        "colab": {
          "base_uri": "https://localhost:8080/"
        },
        "id": "7WrTV2PuYrra",
        "outputId": "109550db-9ae5-4354-e230-326baa622a0c"
      },
      "id": "7WrTV2PuYrra",
      "execution_count": 16,
      "outputs": [
        {
          "output_type": "stream",
          "name": "stdout",
          "text": [
            "5\n"
          ]
        }
      ]
    },
    {
      "cell_type": "code",
      "source": [
        "a[1,5] = 20\n",
        "print(a)\n",
        "\n",
        "a[:,2] = 5\n",
        "print(a)\n",
        "\n",
        "a[:,2] = [1,9]\n",
        "print(a)\n"
      ],
      "metadata": {
        "colab": {
          "base_uri": "https://localhost:8080/"
        },
        "id": "eJ98krdrYeos",
        "outputId": "665096e1-e0ee-40d6-a19f-efdd550b4865"
      },
      "id": "eJ98krdrYeos",
      "execution_count": 17,
      "outputs": [
        {
          "output_type": "stream",
          "name": "stdout",
          "text": [
            "[[ 1  2  3  4  5  6  7  8]\n",
            " [ 4  5 16  7  6 20  9  8]]\n",
            "[[ 1  2  5  4  5  6  7  8]\n",
            " [ 4  5  5  7  6 20  9  8]]\n",
            "[[ 1  2  1  4  5  6  7  8]\n",
            " [ 4  5  9  7  6 20  9  8]]\n"
          ]
        }
      ]
    },
    {
      "cell_type": "markdown",
      "source": [
        "**3-d example**"
      ],
      "metadata": {
        "id": "as6Aw1u8ZoO8"
      },
      "id": "as6Aw1u8ZoO8"
    },
    {
      "cell_type": "code",
      "source": [
        "b = np.array([[[1, 28, 3], [41, 51, 6]], [[11, 21, 13], [5, 5, 9]]])\n",
        "\n",
        "print(b)"
      ],
      "metadata": {
        "colab": {
          "base_uri": "https://localhost:8080/"
        },
        "id": "EWHrg6tUZm3i",
        "outputId": "a1d52199-18df-4b2a-82f6-f5590c6b78f9"
      },
      "id": "EWHrg6tUZm3i",
      "execution_count": 18,
      "outputs": [
        {
          "output_type": "stream",
          "name": "stdout",
          "text": [
            "[[[ 1 28  3]\n",
            "  [41 51  6]]\n",
            "\n",
            " [[11 21 13]\n",
            "  [ 5  5  9]]]\n"
          ]
        }
      ]
    },
    {
      "cell_type": "code",
      "source": [
        "#get specific elements(ork outside in)\n",
        "print(b[0,1,2])\n",
        "print(b[:,1,:])\n",
        "print(b[:,0,:])"
      ],
      "metadata": {
        "colab": {
          "base_uri": "https://localhost:8080/"
        },
        "id": "995nmB9SaDf5",
        "outputId": "397314e1-8f2a-4b11-a247-fbe5ac3a881a"
      },
      "id": "995nmB9SaDf5",
      "execution_count": 19,
      "outputs": [
        {
          "output_type": "stream",
          "name": "stdout",
          "text": [
            "6\n",
            "[[41 51  6]\n",
            " [ 5  5  9]]\n",
            "[[ 1 28  3]\n",
            " [11 21 13]]\n"
          ]
        }
      ]
    },
    {
      "cell_type": "code",
      "source": [
        "b[:,1,:] = [[9,9,9],[8,8,8]]\n",
        "print(b)"
      ],
      "metadata": {
        "colab": {
          "base_uri": "https://localhost:8080/"
        },
        "id": "tJZoyYiWa2rh",
        "outputId": "3bd8e6b7-4f85-4485-b713-8dfa2cd7707c"
      },
      "id": "tJZoyYiWa2rh",
      "execution_count": 20,
      "outputs": [
        {
          "output_type": "stream",
          "name": "stdout",
          "text": [
            "[[[ 1 28  3]\n",
            "  [ 9  9  9]]\n",
            "\n",
            " [[11 21 13]\n",
            "  [ 8  8  8]]]\n"
          ]
        }
      ]
    },
    {
      "cell_type": "markdown",
      "source": [
        "**Initializing different types of arrays**"
      ],
      "metadata": {
        "id": "douE8HDSbJGH"
      },
      "id": "douE8HDSbJGH"
    },
    {
      "cell_type": "code",
      "source": [
        "# all zeros matrix\n",
        "print(np.zeros(5))\n",
        "print(np.zeros((2,6)))"
      ],
      "metadata": {
        "colab": {
          "base_uri": "https://localhost:8080/"
        },
        "id": "n5WcsO-4bRlD",
        "outputId": "205cfdac-d252-4b9d-e1cf-7b12f16e5c15"
      },
      "id": "n5WcsO-4bRlD",
      "execution_count": 21,
      "outputs": [
        {
          "output_type": "stream",
          "name": "stdout",
          "text": [
            "[0. 0. 0. 0. 0.]\n",
            "[[0. 0. 0. 0. 0. 0.]\n",
            " [0. 0. 0. 0. 0. 0.]]\n"
          ]
        }
      ]
    },
    {
      "cell_type": "code",
      "source": [
        "#all one's matrix\n",
        "print(np.ones(4))\n",
        "print(np.ones((3,3), dtype= 'int16'))\n",
        "#print(itemsize(np.ones((3,3), dtype= 'int16'))) - wrong\n",
        "print((np.ones((3,3), dtype= 'int16')).itemsize)\n",
        "print(np.ones((2,3,5),dtype = 'float32'))\n",
        "print((np.ones((2,3,5),dtype = 'float32')).itemsize)"
      ],
      "metadata": {
        "colab": {
          "base_uri": "https://localhost:8080/"
        },
        "id": "pzTHeRyQbbLC",
        "outputId": "af2b5dba-7c5d-43d6-bdbf-978a65dffc6b"
      },
      "id": "pzTHeRyQbbLC",
      "execution_count": 22,
      "outputs": [
        {
          "output_type": "stream",
          "name": "stdout",
          "text": [
            "[1. 1. 1. 1.]\n",
            "[[1 1 1]\n",
            " [1 1 1]\n",
            " [1 1 1]]\n",
            "2\n",
            "[[[1. 1. 1. 1. 1.]\n",
            "  [1. 1. 1. 1. 1.]\n",
            "  [1. 1. 1. 1. 1.]]\n",
            "\n",
            " [[1. 1. 1. 1. 1.]\n",
            "  [1. 1. 1. 1. 1.]\n",
            "  [1. 1. 1. 1. 1.]]]\n",
            "4\n"
          ]
        }
      ]
    },
    {
      "cell_type": "code",
      "source": [
        "#any other number\n",
        "print(np.full((3,2),99,dtype = 'float32'))\n",
        "# Set print options to display float numbers with two decimal places\n",
        "np.set_printoptions(formatter={'float_kind': '{:.2f}'.format})\n",
        "print(np.full((3,2),99,dtype = 'float32'))"
      ],
      "metadata": {
        "colab": {
          "base_uri": "https://localhost:8080/"
        },
        "id": "J7typOyNb3M8",
        "outputId": "c18da317-f79a-431c-d3fd-ed1b45027426"
      },
      "id": "J7typOyNb3M8",
      "execution_count": 23,
      "outputs": [
        {
          "output_type": "stream",
          "name": "stdout",
          "text": [
            "[[99. 99.]\n",
            " [99. 99.]\n",
            " [99. 99.]]\n",
            "[[99.00 99.00]\n",
            " [99.00 99.00]\n",
            " [99.00 99.00]]\n"
          ]
        }
      ]
    },
    {
      "cell_type": "code",
      "source": [
        "#any other number(full_like)\n",
        "print(np.full_like(a,4))"
      ],
      "metadata": {
        "colab": {
          "base_uri": "https://localhost:8080/"
        },
        "id": "fuxGtdzte2Du",
        "outputId": "10f41b76-341c-4e42-e61c-f6c2544a2b35"
      },
      "id": "fuxGtdzte2Du",
      "execution_count": 24,
      "outputs": [
        {
          "output_type": "stream",
          "name": "stdout",
          "text": [
            "[[4 4 4 4 4 4 4 4]\n",
            " [4 4 4 4 4 4 4 4]]\n"
          ]
        }
      ]
    },
    {
      "cell_type": "code",
      "source": [
        "print(np.full(a.shape,5))"
      ],
      "metadata": {
        "colab": {
          "base_uri": "https://localhost:8080/"
        },
        "id": "k6YngchngEth",
        "outputId": "3da5d7b0-c485-42a2-c2de-9e9fc7f71d39"
      },
      "id": "k6YngchngEth",
      "execution_count": 25,
      "outputs": [
        {
          "output_type": "stream",
          "name": "stdout",
          "text": [
            "[[5 5 5 5 5 5 5 5]\n",
            " [5 5 5 5 5 5 5 5]]\n"
          ]
        }
      ]
    },
    {
      "cell_type": "markdown",
      "source": [
        "#Random decimal numbers\n"
      ],
      "metadata": {
        "id": "2K8f1dfFgWgS"
      },
      "id": "2K8f1dfFgWgS"
    },
    {
      "cell_type": "code",
      "source": [
        "#rand() method returns a random float between 0 and 1\n",
        "print(np.random.rand(4,2))\n",
        "print(np.random.rand(4,2,3))"
      ],
      "metadata": {
        "colab": {
          "base_uri": "https://localhost:8080/"
        },
        "id": "vijzdrv2gORf",
        "outputId": "5d6ecbe3-c392-466b-e92b-89eec1da687f"
      },
      "id": "vijzdrv2gORf",
      "execution_count": 26,
      "outputs": [
        {
          "output_type": "stream",
          "name": "stdout",
          "text": [
            "[[0.30 0.85]\n",
            " [0.67 0.10]\n",
            " [0.65 1.00]\n",
            " [0.76 0.75]]\n",
            "[[[0.04 0.23 0.14]\n",
            "  [0.09 0.89 0.22]]\n",
            "\n",
            " [[0.54 0.54 0.82]\n",
            "  [0.82 0.86 0.45]]\n",
            "\n",
            " [[0.49 1.00 0.95]\n",
            "  [0.19 0.44 0.19]]\n",
            "\n",
            " [[0.05 0.64 0.93]\n",
            "  [0.62 0.48 0.63]]]\n"
          ]
        }
      ]
    },
    {
      "cell_type": "code",
      "source": [
        "from numpy import random\n",
        "x = random.rand(4,2)\n",
        "print(x)\n",
        "x1=np.random.randint(100, size=(5))\n",
        "print(x1)"
      ],
      "metadata": {
        "colab": {
          "base_uri": "https://localhost:8080/"
        },
        "id": "Vum3F9dIhvFa",
        "outputId": "fc2fe1c5-ae3d-4468-d260-a13ccad06126"
      },
      "id": "Vum3F9dIhvFa",
      "execution_count": 27,
      "outputs": [
        {
          "output_type": "stream",
          "name": "stdout",
          "text": [
            "[[0.98 0.70]\n",
            " [0.36 0.03]\n",
            " [0.34 0.13]\n",
            " [0.63 0.46]]\n",
            "[22  7  3 26 24]\n"
          ]
        }
      ]
    },
    {
      "cell_type": "code",
      "source": [
        "print(np.random.random_sample(a.shape)) #another method"
      ],
      "metadata": {
        "colab": {
          "base_uri": "https://localhost:8080/"
        },
        "id": "RvctTUegkuCJ",
        "outputId": "49740e7b-c063-4933-8509-cc48b87b85d4"
      },
      "id": "RvctTUegkuCJ",
      "execution_count": 28,
      "outputs": [
        {
          "output_type": "stream",
          "name": "stdout",
          "text": [
            "[[0.32 0.30 0.09 0.39 0.90 0.57 0.38 0.55]\n",
            " [0.57 0.77 0.47 0.26 0.83 0.50 0.35 0.81]]\n"
          ]
        }
      ]
    },
    {
      "cell_type": "code",
      "source": [
        "#random intreger values\n",
        "print(random.randint(20,size=(2,2)))\n",
        "\n",
        "random.randint(-2,7,size=(3,3)) #(startvalue,endvalue,matrixsize)"
      ],
      "metadata": {
        "colab": {
          "base_uri": "https://localhost:8080/"
        },
        "id": "rp4Sh-XFk6hh",
        "outputId": "b35319b3-eb16-443b-8557-72b8712b4dc7"
      },
      "id": "rp4Sh-XFk6hh",
      "execution_count": 29,
      "outputs": [
        {
          "output_type": "stream",
          "name": "stdout",
          "text": [
            "[[18  7]\n",
            " [ 6  0]]\n"
          ]
        },
        {
          "output_type": "execute_result",
          "data": {
            "text/plain": [
              "array([[1, 2, 1],\n",
              "       [6, 3, 3],\n",
              "       [3, 0, 6]])"
            ]
          },
          "metadata": {},
          "execution_count": 29
        }
      ]
    },
    {
      "cell_type": "code",
      "source": [
        "#identity matrix\n",
        "print(np.identity(3))\n",
        "print(np.identity((4),dtype='int16'))"
      ],
      "metadata": {
        "colab": {
          "base_uri": "https://localhost:8080/"
        },
        "id": "Ph2JDER9x8iR",
        "outputId": "63ff9eb1-27c5-4640-cc2f-ac81058ee3d5"
      },
      "id": "Ph2JDER9x8iR",
      "execution_count": 30,
      "outputs": [
        {
          "output_type": "stream",
          "name": "stdout",
          "text": [
            "[[1.00 0.00 0.00]\n",
            " [0.00 1.00 0.00]\n",
            " [0.00 0.00 1.00]]\n",
            "[[1 0 0 0]\n",
            " [0 1 0 0]\n",
            " [0 0 1 0]\n",
            " [0 0 0 1]]\n"
          ]
        }
      ]
    },
    {
      "cell_type": "code",
      "source": [
        "#repeat an array...\n",
        "arr = np.array([1,2,3])\n",
        "r1 = np.repeat(arr,3,axis = 0)\n",
        "print(r1)\n",
        "\n",
        "arr1 = np.array([[4,5,6]])\n",
        "r2 = np.repeat(arr1,3,axis = 0)\n",
        "print(r2)\n",
        "\n",
        "arr2 = np.array([[4,5,6]])\n",
        "r3 = np.repeat(arr2,5,axis = 1)\n",
        "print(r3)"
      ],
      "metadata": {
        "colab": {
          "base_uri": "https://localhost:8080/"
        },
        "id": "gECPSUr4yaSl",
        "outputId": "f2c65404-702f-48e5-920b-e32fa9cad76f"
      },
      "id": "gECPSUr4yaSl",
      "execution_count": 31,
      "outputs": [
        {
          "output_type": "stream",
          "name": "stdout",
          "text": [
            "[1 1 1 2 2 2 3 3 3]\n",
            "[[4 5 6]\n",
            " [4 5 6]\n",
            " [4 5 6]]\n",
            "[[4 4 4 4 4 5 5 5 5 5 6 6 6 6 6]]\n"
          ]
        }
      ]
    },
    {
      "cell_type": "code",
      "source": [
        "'''\n",
        "1 1 1 1 1\n",
        "1 0 0 0 1\n",
        "1 0 9 0 1\n",
        "1 0 0 0 1\n",
        "1 1 1 1 1\n",
        "'''\n",
        "output = np.ones((5,5),dtype='int32')\n",
        "print(output)\n",
        "\n",
        "z = np.zeros((3,3),dtype='int32')\n",
        "z[1,1] = 9\n",
        "print(z)\n",
        "\n",
        "output[1:-1,1:-1] = z\n",
        "print(output)"
      ],
      "metadata": {
        "id": "uwhRAAcw2Grt",
        "outputId": "dc6c0d50-6268-4b38-d7ba-dbcd16da81d7",
        "colab": {
          "base_uri": "https://localhost:8080/"
        }
      },
      "id": "uwhRAAcw2Grt",
      "execution_count": 32,
      "outputs": [
        {
          "output_type": "stream",
          "name": "stdout",
          "text": [
            "[[1 1 1 1 1]\n",
            " [1 1 1 1 1]\n",
            " [1 1 1 1 1]\n",
            " [1 1 1 1 1]\n",
            " [1 1 1 1 1]]\n",
            "[[0 0 0]\n",
            " [0 9 0]\n",
            " [0 0 0]]\n",
            "[[1 1 1 1 1]\n",
            " [1 0 0 0 1]\n",
            " [1 0 9 0 1]\n",
            " [1 0 0 0 1]\n",
            " [1 1 1 1 1]]\n"
          ]
        }
      ]
    },
    {
      "cell_type": "markdown",
      "source": [],
      "metadata": {
        "id": "mfSDcePn12Dv"
      },
      "id": "mfSDcePn12Dv"
    },
    {
      "cell_type": "code",
      "source": [
        "'''\n",
        "1 1 1 1 1\n",
        "1 0 0 0 1\n",
        "1 0 9 0 1\n",
        "1 0 0 0 1\n",
        "1 1 1 1 1\n",
        "'''\n",
        "output = np.ones((5,5),dtype='int32')\n",
        "print(output)\n",
        "\n",
        "z = np.zeros((3,3),dtype='int32')\n",
        "z[1,1] = 9\n",
        "print(z)\n",
        "\n",
        "output[1:4,1:4] = z\n",
        "print(output)"
      ],
      "metadata": {
        "id": "mXBpVa6o2Db2",
        "outputId": "56d4f68b-e690-4a5c-889e-edcb6de6121c",
        "colab": {
          "base_uri": "https://localhost:8080/"
        }
      },
      "id": "mXBpVa6o2Db2",
      "execution_count": 33,
      "outputs": [
        {
          "output_type": "stream",
          "name": "stdout",
          "text": [
            "[[1 1 1 1 1]\n",
            " [1 1 1 1 1]\n",
            " [1 1 1 1 1]\n",
            " [1 1 1 1 1]\n",
            " [1 1 1 1 1]]\n",
            "[[0 0 0]\n",
            " [0 9 0]\n",
            " [0 0 0]]\n",
            "[[1 1 1 1 1]\n",
            " [1 0 0 0 1]\n",
            " [1 0 9 0 1]\n",
            " [1 0 0 0 1]\n",
            " [1 1 1 1 1]]\n"
          ]
        }
      ]
    },
    {
      "cell_type": "markdown",
      "source": [
        "be careful when copying arrays"
      ],
      "metadata": {
        "id": "7n2zGdAUQTST"
      },
      "id": "7n2zGdAUQTST"
    },
    {
      "cell_type": "code",
      "source": [
        "a = np.array([1,2,3])\n",
        "print(a)"
      ],
      "metadata": {
        "id": "QtLgHCchQGPc",
        "outputId": "580d893b-3644-4222-90cd-2514f3c122ef",
        "colab": {
          "base_uri": "https://localhost:8080/"
        }
      },
      "id": "QtLgHCchQGPc",
      "execution_count": 34,
      "outputs": [
        {
          "output_type": "stream",
          "name": "stdout",
          "text": [
            "[1 2 3]\n"
          ]
        }
      ]
    },
    {
      "cell_type": "code",
      "source": [
        "#make the direct copy of the array a\n",
        "b = a\n",
        "print(b)\n",
        "b[0] = 1000\n",
        "print(b)\n",
        "print(a)# here a is also changing because e directly assigned the value and changes are\n",
        "#done also for the contents of a...\n"
      ],
      "metadata": {
        "id": "TG-FM39lQg5V",
        "outputId": "8b02fb05-c7a1-42bd-de91-bb53ccc1e564",
        "colab": {
          "base_uri": "https://localhost:8080/"
        }
      },
      "id": "TG-FM39lQg5V",
      "execution_count": 38,
      "outputs": [
        {
          "output_type": "stream",
          "name": "stdout",
          "text": [
            "[1000    2    3]\n",
            "[1000    2    3]\n",
            "[1000    2    3]\n"
          ]
        }
      ]
    },
    {
      "cell_type": "code",
      "source": [
        "# cop function to mae a copy of an array\n",
        "b = a.copy()\n",
        "print(b)\n",
        "b[0] = 10 # tghis doent change the contents of a\n",
        "print(b)\n",
        "print(a)"
      ],
      "metadata": {
        "id": "_02cL8v4RAG7",
        "outputId": "8d495268-da69-4941-d8ba-9a720230cbb0",
        "colab": {
          "base_uri": "https://localhost:8080/"
        }
      },
      "id": "_02cL8v4RAG7",
      "execution_count": 40,
      "outputs": [
        {
          "output_type": "stream",
          "name": "stdout",
          "text": [
            "[1000    2    3]\n",
            "[10  2  3]\n",
            "[1000    2    3]\n"
          ]
        }
      ]
    },
    {
      "cell_type": "markdown",
      "source": [
        "**Mathematical Operations**"
      ],
      "metadata": {
        "id": "fbelClezRVEY"
      },
      "id": "fbelClezRVEY"
    },
    {
      "cell_type": "code",
      "source": [
        "a = np.array([1,2,3])\n",
        "print(a)"
      ],
      "metadata": {
        "id": "IZghuJNIRR7y",
        "outputId": "ec9f8aa8-012b-40b7-81a3-7e6eb948205c",
        "colab": {
          "base_uri": "https://localhost:8080/"
        }
      },
      "id": "IZghuJNIRR7y",
      "execution_count": 44,
      "outputs": [
        {
          "output_type": "stream",
          "name": "stdout",
          "text": [
            "[1 2 3]\n"
          ]
        }
      ]
    },
    {
      "cell_type": "code",
      "source": [
        "print(a + 2) # this adds the no.  to all elements of the array"
      ],
      "metadata": {
        "id": "y-MRw16ERuBL",
        "outputId": "9601ba62-a143-4565-b7bd-cc0cf1d0ae64",
        "colab": {
          "base_uri": "https://localhost:8080/"
        }
      },
      "id": "y-MRw16ERuBL",
      "execution_count": 46,
      "outputs": [
        {
          "output_type": "stream",
          "name": "stdout",
          "text": [
            "[3 4 5]\n"
          ]
        }
      ]
    },
    {
      "cell_type": "code",
      "source": [
        "print(a-1)"
      ],
      "metadata": {
        "id": "NmYyTeu-R9Bk",
        "outputId": "4b97c2bb-36b0-45ac-98ec-39ba78dad5d6",
        "colab": {
          "base_uri": "https://localhost:8080/"
        }
      },
      "id": "NmYyTeu-R9Bk",
      "execution_count": 47,
      "outputs": [
        {
          "output_type": "stream",
          "name": "stdout",
          "text": [
            "[0 1 2]\n"
          ]
        }
      ]
    },
    {
      "cell_type": "code",
      "source": [
        "print(a*2)"
      ],
      "metadata": {
        "id": "wFeuABd_SCEn",
        "outputId": "dbdae778-0775-4386-b3f5-fbd081894e10",
        "colab": {
          "base_uri": "https://localhost:8080/"
        }
      },
      "id": "wFeuABd_SCEn",
      "execution_count": 48,
      "outputs": [
        {
          "output_type": "stream",
          "name": "stdout",
          "text": [
            "[2 4 6]\n"
          ]
        }
      ]
    },
    {
      "cell_type": "code",
      "source": [
        "print(a/2)"
      ],
      "metadata": {
        "id": "O-NqshqiSGfg",
        "outputId": "57f55c54-8ae9-47f7-e5a3-6b8d370d3f8a",
        "colab": {
          "base_uri": "https://localhost:8080/"
        }
      },
      "id": "O-NqshqiSGfg",
      "execution_count": 49,
      "outputs": [
        {
          "output_type": "stream",
          "name": "stdout",
          "text": [
            "[0.50 1.00 1.50]\n"
          ]
        }
      ]
    },
    {
      "cell_type": "code",
      "source": [
        "b = np.array([1,3,6])\n",
        "print(a+b)"
      ],
      "metadata": {
        "id": "mK_ud8u8SLE9",
        "outputId": "d474dd6a-96ea-4e33-8c37-61a103aa5982",
        "colab": {
          "base_uri": "https://localhost:8080/"
        }
      },
      "id": "mK_ud8u8SLE9",
      "execution_count": 51,
      "outputs": [
        {
          "output_type": "stream",
          "name": "stdout",
          "text": [
            "[2 5 9]\n"
          ]
        }
      ]
    },
    {
      "cell_type": "code",
      "source": [
        "print(b**2)"
      ],
      "metadata": {
        "id": "m3QzFUSmSlg-",
        "outputId": "8d242a1a-1eda-4965-a4b7-3d62a4a21c2a",
        "colab": {
          "base_uri": "https://localhost:8080/"
        }
      },
      "id": "m3QzFUSmSlg-",
      "execution_count": 52,
      "outputs": [
        {
          "output_type": "stream",
          "name": "stdout",
          "text": [
            "[ 1  9 36]\n"
          ]
        }
      ]
    },
    {
      "cell_type": "code",
      "source": [
        "#take the sin\n",
        "np.sin(a)"
      ],
      "metadata": {
        "id": "WpR4iVLLSsdh",
        "outputId": "48b391cc-4b3d-43ac-f94d-48c29b68f8fa",
        "colab": {
          "base_uri": "https://localhost:8080/"
        }
      },
      "id": "WpR4iVLLSsdh",
      "execution_count": 53,
      "outputs": [
        {
          "output_type": "execute_result",
          "data": {
            "text/plain": [
              "array([0.84, 0.91, 0.14])"
            ]
          },
          "metadata": {},
          "execution_count": 53
        }
      ]
    },
    {
      "cell_type": "code",
      "source": [
        "np.cos(b)"
      ],
      "metadata": {
        "id": "TQxQMNvSSz4T",
        "outputId": "92ed9042-68f2-4902-e2ca-06dd607da9cb",
        "colab": {
          "base_uri": "https://localhost:8080/"
        }
      },
      "id": "TQxQMNvSSz4T",
      "execution_count": 54,
      "outputs": [
        {
          "output_type": "execute_result",
          "data": {
            "text/plain": [
              "array([0.54, -0.99, 0.96])"
            ]
          },
          "metadata": {},
          "execution_count": 54
        }
      ]
    },
    {
      "cell_type": "markdown",
      "source": [
        "# Linear Algebra"
      ],
      "metadata": {
        "id": "2OJIMG6nTcdo"
      },
      "id": "2OJIMG6nTcdo"
    },
    {
      "cell_type": "code",
      "source": [
        "a = np.ones((2,3),dtype='int16')\n",
        "print(a)\n",
        "\n",
        "b = np.full((3,2),2)\n",
        "print(b)\n",
        "\n",
        "print(a*b) # this doesnot multiply the matrix insted throws an error"
      ],
      "metadata": {
        "id": "BUaU8fLSThee",
        "outputId": "9dd226c6-7670-4fc3-efe0-86b77f650be1",
        "colab": {
          "base_uri": "https://localhost:8080/",
          "height": 263
        }
      },
      "id": "BUaU8fLSThee",
      "execution_count": 60,
      "outputs": [
        {
          "output_type": "stream",
          "name": "stdout",
          "text": [
            "[[1 1 1]\n",
            " [1 1 1]]\n",
            "[[2 2]\n",
            " [2 2]\n",
            " [2 2]]\n"
          ]
        },
        {
          "output_type": "error",
          "ename": "ValueError",
          "evalue": "operands could not be broadcast together with shapes (2,3) (3,2) ",
          "traceback": [
            "\u001b[0;31m---------------------------------------------------------------------------\u001b[0m",
            "\u001b[0;31mValueError\u001b[0m                                Traceback (most recent call last)",
            "\u001b[0;32m<ipython-input-60-1052518708>\u001b[0m in \u001b[0;36m<cell line: 0>\u001b[0;34m()\u001b[0m\n\u001b[1;32m      5\u001b[0m \u001b[0mprint\u001b[0m\u001b[0;34m(\u001b[0m\u001b[0mb\u001b[0m\u001b[0;34m)\u001b[0m\u001b[0;34m\u001b[0m\u001b[0;34m\u001b[0m\u001b[0m\n\u001b[1;32m      6\u001b[0m \u001b[0;34m\u001b[0m\u001b[0m\n\u001b[0;32m----> 7\u001b[0;31m \u001b[0mprint\u001b[0m\u001b[0;34m(\u001b[0m\u001b[0ma\u001b[0m\u001b[0;34m*\u001b[0m\u001b[0mb\u001b[0m\u001b[0;34m)\u001b[0m \u001b[0;31m# this doesnot multiply the matrix insted throws an error\u001b[0m\u001b[0;34m\u001b[0m\u001b[0;34m\u001b[0m\u001b[0m\n\u001b[0m",
            "\u001b[0;31mValueError\u001b[0m: operands could not be broadcast together with shapes (2,3) (3,2) "
          ]
        }
      ]
    },
    {
      "cell_type": "code",
      "source": [
        "d = np.matmul(a,b)\n",
        "print(d) # matrixmul method to multiply two matrix"
      ],
      "metadata": {
        "id": "RuxQSL1_UWMu",
        "outputId": "c07cfa24-e8c4-4c80-c4fc-1f560915cb87",
        "colab": {
          "base_uri": "https://localhost:8080/"
        }
      },
      "id": "RuxQSL1_UWMu",
      "execution_count": 64,
      "outputs": [
        {
          "output_type": "stream",
          "name": "stdout",
          "text": [
            "[[6 6]\n",
            " [6 6]]\n"
          ]
        }
      ]
    },
    {
      "cell_type": "code",
      "source": [
        "#determinent of the identity matrix\n",
        "c = np.identity(3)\n",
        "print(np.linalg.det(c))"
      ],
      "metadata": {
        "id": "1c8l3Gr5UvuB",
        "outputId": "f3ad4bb4-8b27-4110-b1de-adfb47b1c572",
        "colab": {
          "base_uri": "https://localhost:8080/"
        }
      },
      "id": "1c8l3Gr5UvuB",
      "execution_count": 62,
      "outputs": [
        {
          "output_type": "stream",
          "name": "stdout",
          "text": [
            "1.0\n"
          ]
        }
      ]
    },
    {
      "cell_type": "code",
      "source": [
        "print(np.linalg.det(d))"
      ],
      "metadata": {
        "id": "dk2u2EyhVWJz",
        "outputId": "c0530b07-3d64-4795-af7d-ae46c30605ff",
        "colab": {
          "base_uri": "https://localhost:8080/"
        }
      },
      "id": "dk2u2EyhVWJz",
      "execution_count": 66,
      "outputs": [
        {
          "output_type": "stream",
          "name": "stdout",
          "text": [
            "0.0\n"
          ]
        }
      ]
    },
    {
      "cell_type": "markdown",
      "source": [
        "https://numpy.org/doc/stable/reference/routines.linalg.html\n",
        "\n",
        "referance material"
      ],
      "metadata": {
        "id": "qkZxzrtSWPwE"
      },
      "id": "qkZxzrtSWPwE"
    },
    {
      "cell_type": "markdown",
      "source": [
        "**statistics**"
      ],
      "metadata": {
        "id": "g6Dp-jFwWXNk"
      },
      "id": "g6Dp-jFwWXNk"
    },
    {
      "cell_type": "code",
      "source": [
        "stats = np.array([[11,2,3],[4,5,61]])\n",
        "print(stats)"
      ],
      "metadata": {
        "id": "rw5PwmjcWU50",
        "outputId": "bb154462-5c07-4199-c9e4-66d2d83bee4c",
        "colab": {
          "base_uri": "https://localhost:8080/"
        }
      },
      "id": "rw5PwmjcWU50",
      "execution_count": 70,
      "outputs": [
        {
          "output_type": "stream",
          "name": "stdout",
          "text": [
            "[[11  2  3]\n",
            " [ 4  5 61]]\n"
          ]
        }
      ]
    },
    {
      "cell_type": "code",
      "source": [
        "print(np.min(stats))\n"
      ],
      "metadata": {
        "id": "efTqQ0uCWppe",
        "outputId": "d6bcf48a-0b1e-4d62-92b4-40e2dcc56604",
        "colab": {
          "base_uri": "https://localhost:8080/"
        }
      },
      "id": "efTqQ0uCWppe",
      "execution_count": 71,
      "outputs": [
        {
          "output_type": "stream",
          "name": "stdout",
          "text": [
            "2\n"
          ]
        }
      ]
    },
    {
      "cell_type": "code",
      "source": [
        "print(np.max(stats))"
      ],
      "metadata": {
        "id": "MX9DcSR2Wv0L",
        "outputId": "bdcde86a-c9cb-4b99-9af8-3c861bcfdc93",
        "colab": {
          "base_uri": "https://localhost:8080/"
        }
      },
      "id": "MX9DcSR2Wv0L",
      "execution_count": 72,
      "outputs": [
        {
          "output_type": "stream",
          "name": "stdout",
          "text": [
            "61\n"
          ]
        }
      ]
    },
    {
      "cell_type": "code",
      "source": [
        "print(np.min(stats,axis = 0)) #axis = 0 - Computes the minimum/maximum for each column"
      ],
      "metadata": {
        "id": "Ls5xvL_oW9ZT",
        "outputId": "243b0d66-2a21-4db9-9985-923328c6eca7",
        "colab": {
          "base_uri": "https://localhost:8080/"
        }
      },
      "id": "Ls5xvL_oW9ZT",
      "execution_count": 74,
      "outputs": [
        {
          "output_type": "stream",
          "name": "stdout",
          "text": [
            "[4 2 3]\n"
          ]
        }
      ]
    },
    {
      "cell_type": "code",
      "source": [
        "print(np.max(stats,axis = 1)) #axis = 1 - Computes the minimum/maximum for each row"
      ],
      "metadata": {
        "id": "klBxEmDCXaCa",
        "outputId": "2dd42d7c-e88a-47d1-ef83-e1f088652ed3",
        "colab": {
          "base_uri": "https://localhost:8080/"
        }
      },
      "id": "klBxEmDCXaCa",
      "execution_count": 77,
      "outputs": [
        {
          "output_type": "stream",
          "name": "stdout",
          "text": [
            "[11 61]\n"
          ]
        }
      ]
    },
    {
      "cell_type": "code",
      "source": [
        "# Initialize p with the correct shape (3,) and a suitable data type (e.g., the same as stats)\n",
        "p = np.empty(stats.shape[1], dtype=stats.dtype)\n",
        "np.min(stats, axis=0, out=p) #axis = 0 - Computes the minimum/maximum for each column\n",
        "print(p)"
      ],
      "metadata": {
        "id": "HfGS6Sj6Y3vu",
        "outputId": "c07864c9-68f0-4566-b19c-014d60ef4bbd",
        "colab": {
          "base_uri": "https://localhost:8080/"
        }
      },
      "id": "HfGS6Sj6Y3vu",
      "execution_count": 82,
      "outputs": [
        {
          "output_type": "stream",
          "name": "stdout",
          "text": [
            "[4 2 3]\n"
          ]
        }
      ]
    },
    {
      "cell_type": "code",
      "source": [
        "print(np.sum(stats))"
      ],
      "metadata": {
        "id": "ATuAcIA7aCFS",
        "outputId": "8a147bec-7351-4217-cea0-2f98a49ef739",
        "colab": {
          "base_uri": "https://localhost:8080/"
        }
      },
      "id": "ATuAcIA7aCFS",
      "execution_count": 83,
      "outputs": [
        {
          "output_type": "stream",
          "name": "stdout",
          "text": [
            "86\n"
          ]
        }
      ]
    },
    {
      "cell_type": "code",
      "source": [
        "print(np.sum(stats,axis = 1))# finds the sum fro each row"
      ],
      "metadata": {
        "id": "UWm_-GRSa-iG",
        "outputId": "9ab0baa7-0821-4980-c53c-a1a2570dde8c",
        "colab": {
          "base_uri": "https://localhost:8080/"
        }
      },
      "id": "UWm_-GRSa-iG",
      "execution_count": 85,
      "outputs": [
        {
          "output_type": "stream",
          "name": "stdout",
          "text": [
            "[16 70]\n"
          ]
        }
      ]
    },
    {
      "cell_type": "code",
      "source": [
        "before = np.array([[1,2,3,9],[4,5,6,7]])\n",
        "print(before)\n",
        "print(before.shape)"
      ],
      "metadata": {
        "id": "HqFmIuw_bPXK",
        "outputId": "7c023f5b-0b82-418e-93dc-5bd803c92eb2",
        "colab": {
          "base_uri": "https://localhost:8080/"
        }
      },
      "id": "HqFmIuw_bPXK",
      "execution_count": 88,
      "outputs": [
        {
          "output_type": "stream",
          "name": "stdout",
          "text": [
            "[[1 2 3 9]\n",
            " [4 5 6 7]]\n",
            "(2, 4)\n"
          ]
        }
      ]
    },
    {
      "cell_type": "code",
      "source": [
        "# reshaping the matrix by specifing the shape\n",
        "# if the given size is not compatable it throws a valueError\n",
        "after = before.reshape((8,1))\n",
        "print(after)\n",
        "after = before.reshape((2,2,2))\n",
        "print(after)\n",
        "after = before.reshape((4,2))\n",
        "print(after)"
      ],
      "metadata": {
        "id": "BYUVKyuKbui8",
        "outputId": "26e4e395-5769-4060-f074-e938059697a3",
        "colab": {
          "base_uri": "https://localhost:8080/"
        }
      },
      "id": "BYUVKyuKbui8",
      "execution_count": 94,
      "outputs": [
        {
          "output_type": "stream",
          "name": "stdout",
          "text": [
            "[[1]\n",
            " [2]\n",
            " [3]\n",
            " [9]\n",
            " [4]\n",
            " [5]\n",
            " [6]\n",
            " [7]]\n",
            "[[[1 2]\n",
            "  [3 9]]\n",
            "\n",
            " [[4 5]\n",
            "  [6 7]]]\n",
            "[[1 2]\n",
            " [3 9]\n",
            " [4 5]\n",
            " [6 7]]\n"
          ]
        }
      ]
    },
    {
      "cell_type": "code",
      "source": [
        "# vertically stacking vectors\n",
        "v1 = np.array([1,2,3,4])\n",
        "v2 = np.array([5,6,7,8])\n",
        "\n",
        "print(np.vstack([v1,v2,v2,v1]))"
      ],
      "metadata": {
        "id": "LFbLyTY7cOK4",
        "outputId": "06d92626-f065-4073-f92a-2c08d679388d",
        "colab": {
          "base_uri": "https://localhost:8080/"
        }
      },
      "id": "LFbLyTY7cOK4",
      "execution_count": 98,
      "outputs": [
        {
          "output_type": "stream",
          "name": "stdout",
          "text": [
            "[[1 2 3 4]\n",
            " [5 6 7 8]\n",
            " [5 6 7 8]\n",
            " [1 2 3 4]]\n"
          ]
        }
      ]
    },
    {
      "cell_type": "code",
      "source": [
        "# horizontal stacking\n",
        "print(np.hstack((v1,v2,v1)))"
      ],
      "metadata": {
        "id": "rwouie4YfJMU",
        "outputId": "1d044fbc-9247-4e0e-9802-2f98a8f57c8b",
        "colab": {
          "base_uri": "https://localhost:8080/"
        }
      },
      "id": "rwouie4YfJMU",
      "execution_count": 102,
      "outputs": [
        {
          "output_type": "stream",
          "name": "stdout",
          "text": [
            "[1 2 3 4 5 6 7 8 1 2 3 4]\n"
          ]
        }
      ]
    },
    {
      "cell_type": "code",
      "source": [
        "#horizontal stack\n",
        "h1 = np.ones((2,4),dtype='int32')\n",
        "h2 = np.zeros((2,2),dtype='int32')\n",
        "print(h1)\n",
        "print(h2)\n",
        "print(np.hstack((h1,h2)))"
      ],
      "metadata": {
        "id": "G_X13q1Ufnm4",
        "outputId": "d6f65ad5-ca07-49f6-c6d8-756fa1996965",
        "colab": {
          "base_uri": "https://localhost:8080/"
        }
      },
      "id": "G_X13q1Ufnm4",
      "execution_count": 104,
      "outputs": [
        {
          "output_type": "stream",
          "name": "stdout",
          "text": [
            "[[1 1 1 1]\n",
            " [1 1 1 1]]\n",
            "[[0 0]\n",
            " [0 0]]\n",
            "[[1 1 1 1 0 0]\n",
            " [1 1 1 1 0 0]]\n"
          ]
        }
      ]
    },
    {
      "cell_type": "markdown",
      "source": [
        "**Miscellaneous**"
      ],
      "metadata": {
        "id": "YOtt7xtagP03"
      },
      "id": "YOtt7xtagP03"
    },
    {
      "cell_type": "markdown",
      "source": [
        "**Load data from the file**"
      ],
      "metadata": {
        "id": "LUyXScYGgXwy"
      },
      "id": "LUyXScYGgXwy"
    },
    {
      "cell_type": "code",
      "source": [],
      "metadata": {
        "id": "NDIUgk9Ogdaw"
      },
      "id": "NDIUgk9Ogdaw",
      "execution_count": 108,
      "outputs": []
    }
  ],
  "metadata": {
    "kernelspec": {
      "display_name": "Python 3",
      "name": "python3"
    },
    "language_info": {
      "name": "python"
    },
    "required_libs": [],
    "colab": {
      "provenance": [],
      "include_colab_link": true
    }
  },
  "nbformat": 4,
  "nbformat_minor": 5
}