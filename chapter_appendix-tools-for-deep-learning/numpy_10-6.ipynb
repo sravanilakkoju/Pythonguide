{
  "cells": [
    {
      "cell_type": "markdown",
      "metadata": {
        "id": "view-in-github",
        "colab_type": "text"
      },
      "source": [
        "<a href=\"https://colab.research.google.com/github/sravanilakkoju/Pythonguide/blob/main/chapter_appendix-tools-for-deep-learning/jupyter.ipynb\" target=\"_parent\"><img src=\"https://colab.research.google.com/assets/colab-badge.svg\" alt=\"Open In Colab\"/></a>"
      ]
    },
    {
      "cell_type": "markdown",
      "id": "31d9a4c9",
      "metadata": {
        "origin_pos": 0,
        "id": "31d9a4c9"
      },
      "source": [
        "# Using Jupyter Notebooks\n",
        ":label:`sec_jupyter`\n",
        "\n",
        "\n",
        "This section describes how to edit and run the code\n",
        "in each section of this book\n",
        "using the Jupyter Notebook. Make sure you have\n",
        "installed Jupyter and downloaded the\n",
        "code as described in\n",
        ":ref:`chap_installation`.\n",
        "If you want to know more about Jupyter see the excellent tutorial in\n",
        "their [documentation](https://jupyter.readthedocs.io/en/latest/).\n",
        "\n",
        "\n",
        "## Editing and Running the Code Locally\n",
        "\n",
        "Suppose that the local path of the book's code is `xx/yy/d2l-en/`. Use the shell to change the directory to this path (`cd xx/yy/d2l-en`) and run the command `jupyter notebook`. If your browser does not do this automatically, open http://localhost:8888 and you will see the interface of Jupyter and all the folders containing the code of the book, as shown in :numref:`fig_jupyter00`.\n",
        "\n",
        "![The folders containing the code of this book.](https://github.com/d2l-ai/d2l-en-colab/blob/master/img/jupyter00.png?raw=1)\n",
        ":width:`600px`\n",
        ":label:`fig_jupyter00`\n",
        "\n",
        "\n",
        "You can access the notebook files by clicking on the folder displayed on the webpage.\n",
        "They usually have the suffix \".ipynb\".\n",
        "For the sake of brevity, we create a temporary \"test.ipynb\" file.\n",
        "The content displayed after you click it is\n",
        "shown in :numref:`fig_jupyter01`.\n",
        "This notebook includes a markdown cell and a code cell. The content in the markdown cell includes \"This Is a Title\" and \"This is text.\".\n",
        "The code cell contains two lines of Python code.\n",
        "\n",
        "![Markdown and code cells in the \"text.ipynb\" file.](https://github.com/d2l-ai/d2l-en-colab/blob/master/img/jupyter01.png?raw=1)\n",
        ":width:`600px`\n",
        ":label:`fig_jupyter01`\n",
        "\n",
        "\n",
        "Double click on the markdown cell to enter edit mode.\n",
        "Add a new text string \"Hello world.\" at the end of the cell, as shown in :numref:`fig_jupyter02`.\n",
        "\n",
        "![Edit the markdown cell.](https://github.com/d2l-ai/d2l-en-colab/blob/master/img/jupyter02.png?raw=1)\n",
        ":width:`600px`\n",
        ":label:`fig_jupyter02`\n",
        "\n",
        "\n",
        "As demonstrated in :numref:`fig_jupyter03`,\n",
        "click \"Cell\" $\\rightarrow$ \"Run Cells\" in the menu bar to run the edited cell.\n",
        "\n",
        "![Run the cell.](https://github.com/d2l-ai/d2l-en-colab/blob/master/img/jupyter03.png?raw=1)\n",
        ":width:`600px`\n",
        ":label:`fig_jupyter03`\n",
        "\n",
        "After running, the markdown cell is shown in :numref:`fig_jupyter04`.\n",
        "\n",
        "![The markdown cell after running.](https://github.com/d2l-ai/d2l-en-colab/blob/master/img/jupyter04.png?raw=1)\n",
        ":width:`600px`\n",
        ":label:`fig_jupyter04`\n",
        "\n",
        "\n",
        "Next, click on the code cell. Multiply the elements by 2 after the last line of code, as shown in :numref:`fig_jupyter05`.\n",
        "\n",
        "![Edit the code cell.](https://github.com/d2l-ai/d2l-en-colab/blob/master/img/jupyter05.png?raw=1)\n",
        ":width:`600px`\n",
        ":label:`fig_jupyter05`\n",
        "\n",
        "\n",
        "You can also run the cell with a shortcut (\"Ctrl + Enter\" by default) and obtain the output result from :numref:`fig_jupyter06`.\n",
        "\n",
        "![Run the code cell to obtain the output.](https://github.com/d2l-ai/d2l-en-colab/blob/master/img/jupyter06.png?raw=1)\n",
        ":width:`600px`\n",
        ":label:`fig_jupyter06`\n",
        "\n",
        "\n",
        "When a notebook contains more cells, we can click \"Kernel\" $\\rightarrow$ \"Restart & Run All\" in the menu bar to run all the cells in the entire notebook. By clicking \"Help\" $\\rightarrow$ \"Edit Keyboard Shortcuts\" in the menu bar, you can edit the shortcuts according to your preferences.\n",
        "\n",
        "## Advanced Options\n",
        "\n",
        "Beyond local editing two things are quite important: editing the notebooks in the markdown format and running Jupyter remotely.\n",
        "The latter matters when we want to run the code on a faster server.\n",
        "The former matters since Jupyter's native ipynb format stores a lot of auxiliary data that is\n",
        "irrelevant to the content,\n",
        "mostly related to how and where the code is run.\n",
        "This is confusing for Git, making\n",
        "reviewing contributions very difficult.\n",
        "Fortunately there is an alternative---native editing in the markdown format.\n",
        "\n",
        "### Markdown Files in Jupyter\n",
        "\n",
        "If you wish to contribute to the content of this book, you need to modify the\n",
        "source file (md file, not ipynb file) on GitHub.\n",
        "Using the notedown plugin we\n",
        "can modify notebooks in the md format directly in Jupyter.\n",
        "\n",
        "\n",
        "First, install the notedown plugin, run the Jupyter Notebook, and load the plugin:\n",
        "\n",
        "```\n",
        "pip install d2l-notedown  # You may need to uninstall the original notedown.\n",
        "jupyter notebook --NotebookApp.contents_manager_class='notedown.NotedownContentsManager'\n",
        "```\n",
        "\n",
        "You may also turn on the notedown plugin by default whenever you run the Jupyter Notebook.\n",
        "First, generate a Jupyter Notebook configuration file (if it has already been generated, you can skip this step).\n",
        "\n",
        "```\n",
        "jupyter notebook --generate-config\n",
        "```\n",
        "\n",
        "Then, add the following line to the end of the Jupyter Notebook configuration file (for Linux or macOS, usually in the path `~/.jupyter/jupyter_notebook_config.py`):\n",
        "\n",
        "```\n",
        "c.NotebookApp.contents_manager_class = 'notedown.NotedownContentsManager'\n",
        "```\n",
        "\n",
        "After that, you only need to run the `jupyter notebook` command to turn on the notedown plugin by default.\n",
        "\n",
        "### Running Jupyter Notebooks on a Remote Server\n",
        "\n",
        "Sometimes, you may want to run Jupyter notebooks on a remote server and access it through a browser on your local computer. If Linux or macOS is installed on your local machine (Windows can also support this function through third-party software such as PuTTY), you can use port forwarding:\n",
        "\n",
        "```\n",
        "ssh myserver -L 8888:localhost:8888\n",
        "```\n",
        "\n",
        "The above string `myserver` is the address of the remote server.\n",
        "Then we can use http://localhost:8888 to access the remote server `myserver` that runs Jupyter notebooks. We will detail on how to run Jupyter notebooks on AWS instances\n",
        "later in this appendix.\n",
        "\n",
        "### Timing\n",
        "\n",
        "We can use the `ExecuteTime` plugin to time the execution of each code cell in Jupyter notebooks.\n",
        "Use the following commands to install the plugin:\n",
        "\n",
        "```\n",
        "pip install jupyter_contrib_nbextensions\n",
        "jupyter contrib nbextension install --user\n",
        "jupyter nbextension enable execute_time/ExecuteTime\n",
        "```\n",
        "\n",
        "## Summary\n",
        "\n",
        "* Using the Jupyter Notebook tool, we can edit, run, and contribute to each section of the book.\n",
        "* We can run Jupyter notebooks on remote servers using port forwarding.\n",
        "\n",
        "\n",
        "## Exercises\n",
        "\n",
        "1. Edit and run the code in this book with the Jupyter Notebook on your local machine.\n",
        "1. Edit and run the code in this book with the Jupyter Notebook *remotely* via port forwarding.\n",
        "1. Compare the running time of the operations $\\mathbf{A}^\\top \\mathbf{B}$ and $\\mathbf{A} \\mathbf{B}$ for two square matrices in $\\mathbb{R}^{1024 \\times 1024}$. Which one is faster?\n",
        "\n",
        "\n",
        "[Discussions](https://discuss.d2l.ai/t/421)\n"
      ]
    },
    {
      "cell_type": "code",
      "source": [
        "import numpy as np\n",
        "\n",
        "a = np.array([1,2,3],dtype='int16') #e can also specify the data type we need\n",
        "a\n"
      ],
      "metadata": {
        "colab": {
          "base_uri": "https://localhost:8080/"
        },
        "id": "vdIFsvQxE8qX",
        "outputId": "e74297c4-d793-470f-f5b5-cdcc7ba6b01e"
      },
      "id": "vdIFsvQxE8qX",
      "execution_count": 99,
      "outputs": [
        {
          "output_type": "execute_result",
          "data": {
            "text/plain": [
              "array([1, 2, 3], dtype=int16)"
            ]
          },
          "metadata": {},
          "execution_count": 99
        }
      ]
    },
    {
      "cell_type": "code",
      "source": [
        "b = np.array([[1,2,3,4,5],[1.2,2.5,5.3,6.9,1.2]])\n",
        "b"
      ],
      "metadata": {
        "colab": {
          "base_uri": "https://localhost:8080/"
        },
        "id": "v_snzEPFSiwA",
        "outputId": "4af3cd42-7f04-427d-a2a0-4113afc329d2"
      },
      "id": "v_snzEPFSiwA",
      "execution_count": 100,
      "outputs": [
        {
          "output_type": "execute_result",
          "data": {
            "text/plain": [
              "array([[1.00, 2.00, 3.00, 4.00, 5.00],\n",
              "       [1.20, 2.50, 5.30, 6.90, 1.20]])"
            ]
          },
          "metadata": {},
          "execution_count": 100
        }
      ]
    },
    {
      "cell_type": "code",
      "source": [
        "b.ndim #get the dimention of the array"
      ],
      "metadata": {
        "colab": {
          "base_uri": "https://localhost:8080/"
        },
        "id": "-sv8JxusS-Fb",
        "outputId": "2f6ca826-e6bb-41f9-eccf-ae18776e542e"
      },
      "id": "-sv8JxusS-Fb",
      "execution_count": 101,
      "outputs": [
        {
          "output_type": "execute_result",
          "data": {
            "text/plain": [
              "2"
            ]
          },
          "metadata": {},
          "execution_count": 101
        }
      ]
    },
    {
      "cell_type": "code",
      "source": [
        "#get shape\n",
        "b.shape"
      ],
      "metadata": {
        "colab": {
          "base_uri": "https://localhost:8080/"
        },
        "id": "xSKSqn9TTGMJ",
        "outputId": "7a4ddd17-4603-4eb2-a296-8b92c055bab1"
      },
      "id": "xSKSqn9TTGMJ",
      "execution_count": 102,
      "outputs": [
        {
          "output_type": "execute_result",
          "data": {
            "text/plain": [
              "(2, 5)"
            ]
          },
          "metadata": {},
          "execution_count": 102
        }
      ]
    },
    {
      "cell_type": "code",
      "source": [
        "#get the type\n",
        "print(b.dtype)\n",
        "a.dtype"
      ],
      "metadata": {
        "colab": {
          "base_uri": "https://localhost:8080/"
        },
        "id": "ADhvJZfoTKSZ",
        "outputId": "469489e3-538a-4afe-f59e-8a45d64ba21a"
      },
      "id": "ADhvJZfoTKSZ",
      "execution_count": 103,
      "outputs": [
        {
          "output_type": "stream",
          "name": "stdout",
          "text": [
            "float64\n"
          ]
        },
        {
          "output_type": "execute_result",
          "data": {
            "text/plain": [
              "dtype('int16')"
            ]
          },
          "metadata": {},
          "execution_count": 103
        }
      ]
    },
    {
      "cell_type": "code",
      "source": [
        "# get size\n",
        "print(a.itemsize)\n",
        "print(b.itemsize)"
      ],
      "metadata": {
        "colab": {
          "base_uri": "https://localhost:8080/"
        },
        "id": "A9-sgtxmTSZI",
        "outputId": "d9fc81b5-16de-4ed0-b78a-5ff2bd6e2af7"
      },
      "id": "A9-sgtxmTSZI",
      "execution_count": 104,
      "outputs": [
        {
          "output_type": "stream",
          "name": "stdout",
          "text": [
            "2\n",
            "8\n"
          ]
        }
      ]
    },
    {
      "cell_type": "code",
      "source": [
        "#get the total size\n",
        "print(a.size)\n",
        "print(b.size)\n"
      ],
      "metadata": {
        "colab": {
          "base_uri": "https://localhost:8080/"
        },
        "id": "M9yYA5GeT8Cr",
        "outputId": "220790a5-8c70-4455-a8c0-fa702a9e6b5e"
      },
      "id": "M9yYA5GeT8Cr",
      "execution_count": 105,
      "outputs": [
        {
          "output_type": "stream",
          "name": "stdout",
          "text": [
            "3\n",
            "10\n"
          ]
        }
      ]
    },
    {
      "cell_type": "markdown",
      "source": [
        "**Accessing or changing the specific elements using numpy.**"
      ],
      "metadata": {
        "id": "n6A4hCC9UyFF"
      },
      "id": "n6A4hCC9UyFF"
    },
    {
      "cell_type": "code",
      "source": [
        "a = np.array([[1,2,3,4,5,6,7,8],[4,5,16,7,6,5,9,8]])\n",
        "print(a.ndim)"
      ],
      "metadata": {
        "colab": {
          "base_uri": "https://localhost:8080/"
        },
        "id": "yCyZIPc-Ul-H",
        "outputId": "da5b2f24-45e5-4e13-f375-3314adb840ff"
      },
      "id": "yCyZIPc-Ul-H",
      "execution_count": 106,
      "outputs": [
        {
          "output_type": "stream",
          "name": "stdout",
          "text": [
            "2\n"
          ]
        }
      ]
    },
    {
      "cell_type": "code",
      "source": [
        "print(a)"
      ],
      "metadata": {
        "colab": {
          "base_uri": "https://localhost:8080/"
        },
        "id": "0MrHHBP3Vvvl",
        "outputId": "0abea603-12d8-4608-8c33-3e00fd75a65e"
      },
      "id": "0MrHHBP3Vvvl",
      "execution_count": 107,
      "outputs": [
        {
          "output_type": "stream",
          "name": "stdout",
          "text": [
            "[[ 1  2  3  4  5  6  7  8]\n",
            " [ 4  5 16  7  6  5  9  8]]\n"
          ]
        }
      ]
    },
    {
      "cell_type": "code",
      "source": [
        "#get a specific element[r,c]\n",
        "print(a[1,4])\n",
        "#negitive indexing\n",
        "print(a[-1,-3])"
      ],
      "metadata": {
        "colab": {
          "base_uri": "https://localhost:8080/"
        },
        "id": "GQkBFC6YV10k",
        "outputId": "f05e856c-1bee-4a32-8f3f-50d75429e34f"
      },
      "id": "GQkBFC6YV10k",
      "execution_count": 108,
      "outputs": [
        {
          "output_type": "stream",
          "name": "stdout",
          "text": [
            "6\n",
            "5\n"
          ]
        }
      ]
    },
    {
      "cell_type": "code",
      "source": [
        "#get a specific row\n",
        "print(a[0])\n",
        "print(a[0,:])"
      ],
      "metadata": {
        "colab": {
          "base_uri": "https://localhost:8080/"
        },
        "id": "QtyQ47PwWfpj",
        "outputId": "29fc1e14-a6ec-4d4d-d98c-a88f4603eb50"
      },
      "id": "QtyQ47PwWfpj",
      "execution_count": 109,
      "outputs": [
        {
          "output_type": "stream",
          "name": "stdout",
          "text": [
            "[1 2 3 4 5 6 7 8]\n",
            "[1 2 3 4 5 6 7 8]\n"
          ]
        }
      ]
    },
    {
      "cell_type": "code",
      "source": [
        "#get a specific column\n",
        "a[:,1] #doesnot gives the specified output\n",
        "#[startindex:endindex:stepindex]\n",
        "print(a[0,1:6:2])\n",
        "print(a[0,1:-1:2])"
      ],
      "metadata": {
        "colab": {
          "base_uri": "https://localhost:8080/"
        },
        "id": "Gq_HPIvaWuwO",
        "outputId": "59921b87-758e-40d9-a7eb-417e49faec3d"
      },
      "id": "Gq_HPIvaWuwO",
      "execution_count": 110,
      "outputs": [
        {
          "output_type": "stream",
          "name": "stdout",
          "text": [
            "[2 4 6]\n",
            "[2 4 6]\n"
          ]
        }
      ]
    },
    {
      "cell_type": "code",
      "source": [
        "print(a[1,5])"
      ],
      "metadata": {
        "colab": {
          "base_uri": "https://localhost:8080/"
        },
        "id": "7WrTV2PuYrra",
        "outputId": "cc566615-dccb-479c-bfb7-6e305548bf47"
      },
      "id": "7WrTV2PuYrra",
      "execution_count": 111,
      "outputs": [
        {
          "output_type": "stream",
          "name": "stdout",
          "text": [
            "5\n"
          ]
        }
      ]
    },
    {
      "cell_type": "code",
      "source": [
        "a[1,5] = 20\n",
        "print(a)\n",
        "\n",
        "a[:,2] = 5\n",
        "print(a)\n",
        "\n",
        "a[:,2] = [1,9]\n",
        "print(a)\n"
      ],
      "metadata": {
        "colab": {
          "base_uri": "https://localhost:8080/"
        },
        "id": "eJ98krdrYeos",
        "outputId": "e0a2e8c4-4b4b-4617-8c4f-dd7a099d978a"
      },
      "id": "eJ98krdrYeos",
      "execution_count": 112,
      "outputs": [
        {
          "output_type": "stream",
          "name": "stdout",
          "text": [
            "[[ 1  2  3  4  5  6  7  8]\n",
            " [ 4  5 16  7  6 20  9  8]]\n",
            "[[ 1  2  5  4  5  6  7  8]\n",
            " [ 4  5  5  7  6 20  9  8]]\n",
            "[[ 1  2  1  4  5  6  7  8]\n",
            " [ 4  5  9  7  6 20  9  8]]\n"
          ]
        }
      ]
    },
    {
      "cell_type": "markdown",
      "source": [
        "**3-d example**"
      ],
      "metadata": {
        "id": "as6Aw1u8ZoO8"
      },
      "id": "as6Aw1u8ZoO8"
    },
    {
      "cell_type": "code",
      "source": [
        "b = np.array([[[1, 28, 3], [41, 51, 6]], [[11, 21, 13], [5, 5, 9]]])\n",
        "\n",
        "print(b)"
      ],
      "metadata": {
        "colab": {
          "base_uri": "https://localhost:8080/"
        },
        "id": "EWHrg6tUZm3i",
        "outputId": "9d917001-656f-4d42-a2fd-fd8390a9cfc7"
      },
      "id": "EWHrg6tUZm3i",
      "execution_count": 113,
      "outputs": [
        {
          "output_type": "stream",
          "name": "stdout",
          "text": [
            "[[[ 1 28  3]\n",
            "  [41 51  6]]\n",
            "\n",
            " [[11 21 13]\n",
            "  [ 5  5  9]]]\n"
          ]
        }
      ]
    },
    {
      "cell_type": "code",
      "source": [
        "#get specific elements(ork outside in)\n",
        "print(b[0,1,2])\n",
        "print(b[:,1,:])\n",
        "print(b[:,0,:])"
      ],
      "metadata": {
        "colab": {
          "base_uri": "https://localhost:8080/"
        },
        "id": "995nmB9SaDf5",
        "outputId": "72ca92aa-41d5-4492-89f1-e00d7ef37d68"
      },
      "id": "995nmB9SaDf5",
      "execution_count": 114,
      "outputs": [
        {
          "output_type": "stream",
          "name": "stdout",
          "text": [
            "6\n",
            "[[41 51  6]\n",
            " [ 5  5  9]]\n",
            "[[ 1 28  3]\n",
            " [11 21 13]]\n"
          ]
        }
      ]
    },
    {
      "cell_type": "code",
      "source": [
        "b[:,1,:] = [[9,9,9],[8,8,8]]\n",
        "print(b)"
      ],
      "metadata": {
        "colab": {
          "base_uri": "https://localhost:8080/"
        },
        "id": "tJZoyYiWa2rh",
        "outputId": "9d00413b-f2ae-40f1-c328-1df309274a4b"
      },
      "id": "tJZoyYiWa2rh",
      "execution_count": 115,
      "outputs": [
        {
          "output_type": "stream",
          "name": "stdout",
          "text": [
            "[[[ 1 28  3]\n",
            "  [ 9  9  9]]\n",
            "\n",
            " [[11 21 13]\n",
            "  [ 8  8  8]]]\n"
          ]
        }
      ]
    },
    {
      "cell_type": "markdown",
      "source": [
        "**Initializing different types of arrays**"
      ],
      "metadata": {
        "id": "douE8HDSbJGH"
      },
      "id": "douE8HDSbJGH"
    },
    {
      "cell_type": "code",
      "source": [
        "# all zeros matrix\n",
        "print(np.zeros(5))\n",
        "print(np.zeros((2,6)))"
      ],
      "metadata": {
        "colab": {
          "base_uri": "https://localhost:8080/"
        },
        "id": "n5WcsO-4bRlD",
        "outputId": "311c9b9f-cb33-4262-b27f-97b1736a9a00"
      },
      "id": "n5WcsO-4bRlD",
      "execution_count": 116,
      "outputs": [
        {
          "output_type": "stream",
          "name": "stdout",
          "text": [
            "[0.00 0.00 0.00 0.00 0.00]\n",
            "[[0.00 0.00 0.00 0.00 0.00 0.00]\n",
            " [0.00 0.00 0.00 0.00 0.00 0.00]]\n"
          ]
        }
      ]
    },
    {
      "cell_type": "code",
      "source": [
        "#all one's matrix\n",
        "print(np.ones(4))\n",
        "print(np.ones((3,3), dtype= 'int16'))\n",
        "#print(itemsize(np.ones((3,3), dtype= 'int16'))) - wrong\n",
        "print((np.ones((3,3), dtype= 'int16')).itemsize)\n",
        "print(np.ones((2,3,5),dtype = 'float32'))\n",
        "print((np.ones((2,3,5),dtype = 'float32')).itemsize)"
      ],
      "metadata": {
        "colab": {
          "base_uri": "https://localhost:8080/"
        },
        "id": "pzTHeRyQbbLC",
        "outputId": "e6269ee1-ebb4-4b13-c756-a8a13d7e8172"
      },
      "id": "pzTHeRyQbbLC",
      "execution_count": 117,
      "outputs": [
        {
          "output_type": "stream",
          "name": "stdout",
          "text": [
            "[1.00 1.00 1.00 1.00]\n",
            "[[1 1 1]\n",
            " [1 1 1]\n",
            " [1 1 1]]\n",
            "2\n",
            "[[[1.00 1.00 1.00 1.00 1.00]\n",
            "  [1.00 1.00 1.00 1.00 1.00]\n",
            "  [1.00 1.00 1.00 1.00 1.00]]\n",
            "\n",
            " [[1.00 1.00 1.00 1.00 1.00]\n",
            "  [1.00 1.00 1.00 1.00 1.00]\n",
            "  [1.00 1.00 1.00 1.00 1.00]]]\n",
            "4\n"
          ]
        }
      ]
    },
    {
      "cell_type": "code",
      "source": [
        "#any other number\n",
        "print(np.full((3,2),99,dtype = 'float32'))\n",
        "# Set print options to display float numbers with two decimal places\n",
        "np.set_printoptions(formatter={'float_kind': '{:.2f}'.format})\n",
        "print(np.full((3,2),99,dtype = 'float32'))"
      ],
      "metadata": {
        "colab": {
          "base_uri": "https://localhost:8080/"
        },
        "id": "J7typOyNb3M8",
        "outputId": "20f082c9-3ebc-498e-9ab7-b909e765f43c"
      },
      "id": "J7typOyNb3M8",
      "execution_count": 118,
      "outputs": [
        {
          "output_type": "stream",
          "name": "stdout",
          "text": [
            "[[99.00 99.00]\n",
            " [99.00 99.00]\n",
            " [99.00 99.00]]\n",
            "[[99.00 99.00]\n",
            " [99.00 99.00]\n",
            " [99.00 99.00]]\n"
          ]
        }
      ]
    },
    {
      "cell_type": "code",
      "source": [
        "#any other number(full_like)\n",
        "print(np.full_like(a,4))"
      ],
      "metadata": {
        "colab": {
          "base_uri": "https://localhost:8080/"
        },
        "id": "fuxGtdzte2Du",
        "outputId": "6e770720-3bda-4439-f70a-19842a229e81"
      },
      "id": "fuxGtdzte2Du",
      "execution_count": 119,
      "outputs": [
        {
          "output_type": "stream",
          "name": "stdout",
          "text": [
            "[[4 4 4 4 4 4 4 4]\n",
            " [4 4 4 4 4 4 4 4]]\n"
          ]
        }
      ]
    },
    {
      "cell_type": "code",
      "source": [
        "print(np.full(a.shape,5))"
      ],
      "metadata": {
        "colab": {
          "base_uri": "https://localhost:8080/"
        },
        "id": "k6YngchngEth",
        "outputId": "8b3789ec-0eaa-4e4a-99d6-7befb9bfb32f"
      },
      "id": "k6YngchngEth",
      "execution_count": 120,
      "outputs": [
        {
          "output_type": "stream",
          "name": "stdout",
          "text": [
            "[[5 5 5 5 5 5 5 5]\n",
            " [5 5 5 5 5 5 5 5]]\n"
          ]
        }
      ]
    },
    {
      "cell_type": "markdown",
      "source": [
        "#Random decimal numbers\n"
      ],
      "metadata": {
        "id": "2K8f1dfFgWgS"
      },
      "id": "2K8f1dfFgWgS"
    },
    {
      "cell_type": "code",
      "source": [
        "#rand() method returns a random float between 0 and 1\n",
        "print(np.random.rand(4,2))\n",
        "print(np.random.rand(4,2,3))"
      ],
      "metadata": {
        "colab": {
          "base_uri": "https://localhost:8080/"
        },
        "id": "vijzdrv2gORf",
        "outputId": "a741b027-fdcc-4be8-9a68-ba0bbb723991"
      },
      "id": "vijzdrv2gORf",
      "execution_count": 121,
      "outputs": [
        {
          "output_type": "stream",
          "name": "stdout",
          "text": [
            "[[0.49 0.61]\n",
            " [0.05 0.30]\n",
            " [0.35 0.46]\n",
            " [0.93 0.32]]\n",
            "[[[0.98 0.56 0.30]\n",
            "  [0.92 0.79 0.87]]\n",
            "\n",
            " [[0.53 0.05 0.98]\n",
            "  [0.76 0.16 0.41]]\n",
            "\n",
            " [[0.18 0.77 0.72]\n",
            "  [0.20 0.54 0.48]]\n",
            "\n",
            " [[0.65 0.86 0.41]\n",
            "  [0.68 0.26 0.92]]]\n"
          ]
        }
      ]
    },
    {
      "cell_type": "code",
      "source": [
        "from numpy import random\n",
        "x = random.rand(4,2)\n",
        "print(x)\n",
        "x1=np.random.randint(100, size=(5))\n",
        "print(x1)"
      ],
      "metadata": {
        "colab": {
          "base_uri": "https://localhost:8080/"
        },
        "id": "Vum3F9dIhvFa",
        "outputId": "62fc9f64-071c-4bf5-c4c2-779bd8eee2f5"
      },
      "id": "Vum3F9dIhvFa",
      "execution_count": 124,
      "outputs": [
        {
          "output_type": "stream",
          "name": "stdout",
          "text": [
            "[[0.30 0.40]\n",
            " [0.86 0.41]\n",
            " [0.75 0.07]\n",
            " [0.64 0.78]]\n",
            "[58 64  9 65 19]\n"
          ]
        }
      ]
    }
  ],
  "metadata": {
    "kernelspec": {
      "display_name": "Python 3",
      "name": "python3"
    },
    "language_info": {
      "name": "python"
    },
    "required_libs": [],
    "colab": {
      "provenance": [],
      "include_colab_link": true
    }
  },
  "nbformat": 4,
  "nbformat_minor": 5
}
